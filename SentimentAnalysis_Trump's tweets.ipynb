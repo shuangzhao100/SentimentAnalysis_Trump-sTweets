{
 "cells": [
  {
   "cell_type": "markdown",
   "id": "25100230",
   "metadata": {},
   "source": [
    "### Data exploration (Trump's tweets)"
   ]
  },
  {
   "cell_type": "code",
   "execution_count": 185,
   "id": "61eaaf14",
   "metadata": {},
   "outputs": [],
   "source": [
    "import pandas as pd\n",
    "import re\n",
    "import numpy as np"
   ]
  },
  {
   "cell_type": "code",
   "execution_count": 138,
   "id": "30f0befb",
   "metadata": {},
   "outputs": [],
   "source": [
    "data = pd.read_csv('trump_20200530.csv')"
   ]
  },
  {
   "cell_type": "code",
   "execution_count": 139,
   "id": "212a126d",
   "metadata": {},
   "outputs": [
    {
     "data": {
      "text/plain": [
       "Index(['source', 'text', 'created_at', 'retweet_count', 'favorite_count',\n",
       "       'is_retweet', 'id_str'],\n",
       "      dtype='object')"
      ]
     },
     "execution_count": 139,
     "metadata": {},
     "output_type": "execute_result"
    }
   ],
   "source": [
    "# see what columns are in the data set\n",
    "data.columns"
   ]
  },
  {
   "cell_type": "code",
   "execution_count": 140,
   "id": "c12f7103",
   "metadata": {},
   "outputs": [
    {
     "data": {
      "text/plain": [
       "(18467, 7)"
      ]
     },
     "execution_count": 140,
     "metadata": {},
     "output_type": "execute_result"
    }
   ],
   "source": [
    "# check the shape\n",
    "data.shape"
   ]
  },
  {
   "cell_type": "code",
   "execution_count": 141,
   "id": "d788ef87",
   "metadata": {
    "scrolled": false
   },
   "outputs": [
    {
     "data": {
      "text/html": [
       "<div>\n",
       "<style scoped>\n",
       "    .dataframe tbody tr th:only-of-type {\n",
       "        vertical-align: middle;\n",
       "    }\n",
       "\n",
       "    .dataframe tbody tr th {\n",
       "        vertical-align: top;\n",
       "    }\n",
       "\n",
       "    .dataframe thead th {\n",
       "        text-align: right;\n",
       "    }\n",
       "</style>\n",
       "<table border=\"1\" class=\"dataframe\">\n",
       "  <thead>\n",
       "    <tr style=\"text-align: right;\">\n",
       "      <th></th>\n",
       "      <th>source</th>\n",
       "      <th>text</th>\n",
       "      <th>created_at</th>\n",
       "      <th>retweet_count</th>\n",
       "      <th>favorite_count</th>\n",
       "      <th>is_retweet</th>\n",
       "      <th>id_str</th>\n",
       "    </tr>\n",
       "  </thead>\n",
       "  <tbody>\n",
       "    <tr>\n",
       "      <th>0</th>\n",
       "      <td>Twitter for iPhone</td>\n",
       "      <td>RT @ScottAdamsSays: Malaria drug and zinc the ...</td>\n",
       "      <td>05-30-2020 03:26:31</td>\n",
       "      <td>10566</td>\n",
       "      <td>0</td>\n",
       "      <td>True</td>\n",
       "      <td>1266571665204527109</td>\n",
       "    </tr>\n",
       "    <tr>\n",
       "      <th>1</th>\n",
       "      <td>Twitter for iPhone</td>\n",
       "      <td>RT @YoungDems4Trump: In Democrat cities you ca...</td>\n",
       "      <td>05-30-2020 03:21:41</td>\n",
       "      <td>22320</td>\n",
       "      <td>0</td>\n",
       "      <td>True</td>\n",
       "      <td>1266570449431003138</td>\n",
       "    </tr>\n",
       "    <tr>\n",
       "      <th>2</th>\n",
       "      <td>Twitter for iPhone</td>\n",
       "      <td>RT @YoungDems4Trump: So sad. This poor busines...</td>\n",
       "      <td>05-30-2020 03:21:32</td>\n",
       "      <td>23961</td>\n",
       "      <td>0</td>\n",
       "      <td>True</td>\n",
       "      <td>1266570411678019584</td>\n",
       "    </tr>\n",
       "    <tr>\n",
       "      <th>3</th>\n",
       "      <td>Twitter for iPhone</td>\n",
       "      <td>Time for a change! #2020 https://t.co/AECy2GBfys</td>\n",
       "      <td>05-30-2020 03:20:18</td>\n",
       "      <td>42879</td>\n",
       "      <td>164022</td>\n",
       "      <td>False</td>\n",
       "      <td>1266570099454103553</td>\n",
       "    </tr>\n",
       "    <tr>\n",
       "      <th>4</th>\n",
       "      <td>Twitter for iPhone</td>\n",
       "      <td>RT @TallahForTrump: Trump spoke at my church i...</td>\n",
       "      <td>05-30-2020 03:19:01</td>\n",
       "      <td>36563</td>\n",
       "      <td>0</td>\n",
       "      <td>True</td>\n",
       "      <td>1266569778770182151</td>\n",
       "    </tr>\n",
       "  </tbody>\n",
       "</table>\n",
       "</div>"
      ],
      "text/plain": [
       "               source                                               text  \\\n",
       "0  Twitter for iPhone  RT @ScottAdamsSays: Malaria drug and zinc the ...   \n",
       "1  Twitter for iPhone  RT @YoungDems4Trump: In Democrat cities you ca...   \n",
       "2  Twitter for iPhone  RT @YoungDems4Trump: So sad. This poor busines...   \n",
       "3  Twitter for iPhone   Time for a change! #2020 https://t.co/AECy2GBfys   \n",
       "4  Twitter for iPhone  RT @TallahForTrump: Trump spoke at my church i...   \n",
       "\n",
       "            created_at  retweet_count  favorite_count is_retweet  \\\n",
       "0  05-30-2020 03:26:31          10566               0       True   \n",
       "1  05-30-2020 03:21:41          22320               0       True   \n",
       "2  05-30-2020 03:21:32          23961               0       True   \n",
       "3  05-30-2020 03:20:18          42879          164022      False   \n",
       "4  05-30-2020 03:19:01          36563               0       True   \n",
       "\n",
       "                id_str  \n",
       "0  1266571665204527109  \n",
       "1  1266570449431003138  \n",
       "2  1266570411678019584  \n",
       "3  1266570099454103553  \n",
       "4  1266569778770182151  "
      ]
     },
     "execution_count": 141,
     "metadata": {},
     "output_type": "execute_result"
    }
   ],
   "source": [
    "# check the top rows\n",
    "data.head()"
   ]
  },
  {
   "cell_type": "code",
   "execution_count": 142,
   "id": "a79b0d76",
   "metadata": {},
   "outputs": [
    {
     "data": {
      "text/html": [
       "<div>\n",
       "<style scoped>\n",
       "    .dataframe tbody tr th:only-of-type {\n",
       "        vertical-align: middle;\n",
       "    }\n",
       "\n",
       "    .dataframe tbody tr th {\n",
       "        vertical-align: top;\n",
       "    }\n",
       "\n",
       "    .dataframe thead th {\n",
       "        text-align: right;\n",
       "    }\n",
       "</style>\n",
       "<table border=\"1\" class=\"dataframe\">\n",
       "  <thead>\n",
       "    <tr style=\"text-align: right;\">\n",
       "      <th></th>\n",
       "      <th>source</th>\n",
       "      <th>text</th>\n",
       "      <th>created_at</th>\n",
       "      <th>retweet_count</th>\n",
       "      <th>favorite_count</th>\n",
       "      <th>is_retweet</th>\n",
       "      <th>id_str</th>\n",
       "    </tr>\n",
       "  </thead>\n",
       "  <tbody>\n",
       "    <tr>\n",
       "      <th>18462</th>\n",
       "      <td>Twitter for iPhone</td>\n",
       "      <td>January 20th 2017 will be remembered as the da...</td>\n",
       "      <td>01-20-2017 17:53:17</td>\n",
       "      <td>60604</td>\n",
       "      <td>218555</td>\n",
       "      <td>False</td>\n",
       "      <td>822502270503972872</td>\n",
       "    </tr>\n",
       "    <tr>\n",
       "      <th>18463</th>\n",
       "      <td>Twitter for iPhone</td>\n",
       "      <td>What truly matters is not which party controls...</td>\n",
       "      <td>01-20-2017 17:52:45</td>\n",
       "      <td>42790</td>\n",
       "      <td>180394</td>\n",
       "      <td>False</td>\n",
       "      <td>822502135233384448</td>\n",
       "    </tr>\n",
       "    <tr>\n",
       "      <th>18464</th>\n",
       "      <td>Twitter for iPhone</td>\n",
       "      <td>power from Washington D.C. and giving it back ...</td>\n",
       "      <td>01-20-2017 17:51:58</td>\n",
       "      <td>18362</td>\n",
       "      <td>91143</td>\n",
       "      <td>False</td>\n",
       "      <td>822501939267141634</td>\n",
       "    </tr>\n",
       "    <tr>\n",
       "      <th>18465</th>\n",
       "      <td>Twitter for iPhone</td>\n",
       "      <td>Today we are not merely transferring power fro...</td>\n",
       "      <td>01-20-2017 17:51:25</td>\n",
       "      <td>20125</td>\n",
       "      <td>109640</td>\n",
       "      <td>False</td>\n",
       "      <td>822501803615014918</td>\n",
       "    </tr>\n",
       "    <tr>\n",
       "      <th>18466</th>\n",
       "      <td>Twitter for Android</td>\n",
       "      <td>It all begins today! I will see you at 11:00 A...</td>\n",
       "      <td>01-20-2017 12:31:53</td>\n",
       "      <td>70523</td>\n",
       "      <td>268372</td>\n",
       "      <td>False</td>\n",
       "      <td>822421390125043713</td>\n",
       "    </tr>\n",
       "  </tbody>\n",
       "</table>\n",
       "</div>"
      ],
      "text/plain": [
       "                    source                                               text  \\\n",
       "18462   Twitter for iPhone  January 20th 2017 will be remembered as the da...   \n",
       "18463   Twitter for iPhone  What truly matters is not which party controls...   \n",
       "18464   Twitter for iPhone  power from Washington D.C. and giving it back ...   \n",
       "18465   Twitter for iPhone  Today we are not merely transferring power fro...   \n",
       "18466  Twitter for Android  It all begins today! I will see you at 11:00 A...   \n",
       "\n",
       "                created_at  retweet_count  favorite_count is_retweet  \\\n",
       "18462  01-20-2017 17:53:17          60604          218555      False   \n",
       "18463  01-20-2017 17:52:45          42790          180394      False   \n",
       "18464  01-20-2017 17:51:58          18362           91143      False   \n",
       "18465  01-20-2017 17:51:25          20125          109640      False   \n",
       "18466  01-20-2017 12:31:53          70523          268372      False   \n",
       "\n",
       "                   id_str  \n",
       "18462  822502270503972872  \n",
       "18463  822502135233384448  \n",
       "18464  822501939267141634  \n",
       "18465  822501803615014918  \n",
       "18466  822421390125043713  "
      ]
     },
     "execution_count": 142,
     "metadata": {},
     "output_type": "execute_result"
    }
   ],
   "source": [
    "# check the bottom rows\n",
    "data.tail()"
   ]
  },
  {
   "cell_type": "code",
   "execution_count": 143,
   "id": "22465d23",
   "metadata": {},
   "outputs": [
    {
     "data": {
      "text/plain": [
       "source             0\n",
       "text               0\n",
       "created_at         0\n",
       "retweet_count      0\n",
       "favorite_count     0\n",
       "is_retweet        58\n",
       "id_str             0\n",
       "dtype: int64"
      ]
     },
     "execution_count": 143,
     "metadata": {},
     "output_type": "execute_result"
    }
   ],
   "source": [
    "# check for na values\n",
    "data.isna().sum()"
   ]
  },
  {
   "cell_type": "code",
   "execution_count": 144,
   "id": "a5a711dc",
   "metadata": {
    "scrolled": true
   },
   "outputs": [
    {
     "data": {
      "text/html": [
       "<div>\n",
       "<style scoped>\n",
       "    .dataframe tbody tr th:only-of-type {\n",
       "        vertical-align: middle;\n",
       "    }\n",
       "\n",
       "    .dataframe tbody tr th {\n",
       "        vertical-align: top;\n",
       "    }\n",
       "\n",
       "    .dataframe thead th {\n",
       "        text-align: right;\n",
       "    }\n",
       "</style>\n",
       "<table border=\"1\" class=\"dataframe\">\n",
       "  <thead>\n",
       "    <tr style=\"text-align: right;\">\n",
       "      <th></th>\n",
       "      <th>retweet_count</th>\n",
       "      <th>favorite_count</th>\n",
       "      <th>id_str</th>\n",
       "    </tr>\n",
       "  </thead>\n",
       "  <tbody>\n",
       "    <tr>\n",
       "      <th>count</th>\n",
       "      <td>18467.000000</td>\n",
       "      <td>18467.000000</td>\n",
       "      <td>1.846700e+04</td>\n",
       "    </tr>\n",
       "    <tr>\n",
       "      <th>mean</th>\n",
       "      <td>17753.247306</td>\n",
       "      <td>58623.881193</td>\n",
       "      <td>1.118379e+18</td>\n",
       "    </tr>\n",
       "    <tr>\n",
       "      <th>std</th>\n",
       "      <td>13060.852549</td>\n",
       "      <td>60661.448610</td>\n",
       "      <td>1.188340e+17</td>\n",
       "    </tr>\n",
       "    <tr>\n",
       "      <th>min</th>\n",
       "      <td>0.000000</td>\n",
       "      <td>0.000000</td>\n",
       "      <td>8.224214e+17</td>\n",
       "    </tr>\n",
       "    <tr>\n",
       "      <th>25%</th>\n",
       "      <td>9701.500000</td>\n",
       "      <td>0.000000</td>\n",
       "      <td>1.037514e+18</td>\n",
       "    </tr>\n",
       "    <tr>\n",
       "      <th>50%</th>\n",
       "      <td>15403.000000</td>\n",
       "      <td>57571.000000</td>\n",
       "      <td>1.156175e+18</td>\n",
       "    </tr>\n",
       "    <tr>\n",
       "      <th>75%</th>\n",
       "      <td>22469.000000</td>\n",
       "      <td>91086.500000</td>\n",
       "      <td>1.214196e+18</td>\n",
       "    </tr>\n",
       "    <tr>\n",
       "      <th>max</th>\n",
       "      <td>369530.000000</td>\n",
       "      <td>879647.000000</td>\n",
       "      <td>1.266572e+18</td>\n",
       "    </tr>\n",
       "  </tbody>\n",
       "</table>\n",
       "</div>"
      ],
      "text/plain": [
       "       retweet_count  favorite_count        id_str\n",
       "count   18467.000000    18467.000000  1.846700e+04\n",
       "mean    17753.247306    58623.881193  1.118379e+18\n",
       "std     13060.852549    60661.448610  1.188340e+17\n",
       "min         0.000000        0.000000  8.224214e+17\n",
       "25%      9701.500000        0.000000  1.037514e+18\n",
       "50%     15403.000000    57571.000000  1.156175e+18\n",
       "75%     22469.000000    91086.500000  1.214196e+18\n",
       "max    369530.000000   879647.000000  1.266572e+18"
      ]
     },
     "execution_count": 144,
     "metadata": {},
     "output_type": "execute_result"
    }
   ],
   "source": [
    "data.describe()"
   ]
  },
  {
   "cell_type": "code",
   "execution_count": 145,
   "id": "1f35c55f",
   "metadata": {
    "scrolled": true
   },
   "outputs": [
    {
     "data": {
      "text/plain": [
       "count     18467.000000\n",
       "mean      17753.247306\n",
       "std       13060.852549\n",
       "min           0.000000\n",
       "25%        9701.500000\n",
       "50%       15403.000000\n",
       "75%       22469.000000\n",
       "max      369530.000000\n",
       "Name: retweet_count, dtype: float64"
      ]
     },
     "execution_count": 145,
     "metadata": {},
     "output_type": "execute_result"
    }
   ],
   "source": [
    "data.retweet_count.describe()"
   ]
  },
  {
   "cell_type": "code",
   "execution_count": 146,
   "id": "b0f7765c",
   "metadata": {},
   "outputs": [
    {
     "data": {
      "text/plain": [
       "array(['Twitter for iPhone', 'Twitter Media Studio', 'Twitter Web App',\n",
       "       'Twitter Web Client', 'Twitter for iPad', 'Media Studio',\n",
       "       'Twitter Ads', 'Twitter for Android'], dtype=object)"
      ]
     },
     "execution_count": 146,
     "metadata": {},
     "output_type": "execute_result"
    }
   ],
   "source": [
    "data.source.unique()"
   ]
  },
  {
   "cell_type": "code",
   "execution_count": 147,
   "id": "d2b5d051",
   "metadata": {},
   "outputs": [
    {
     "data": {
      "text/plain": [
       "8"
      ]
     },
     "execution_count": 147,
     "metadata": {},
     "output_type": "execute_result"
    }
   ],
   "source": [
    "data.source.nunique()"
   ]
  },
  {
   "cell_type": "markdown",
   "id": "75bd9d64",
   "metadata": {},
   "source": [
    "**Observation:**\n",
    "- There are 18,467 rows in this data set.\n",
    "- There are 7 columns, namely *'source', 'text', 'created_at', 'retweet_count', 'favorite_count','is_retweet', 'id_str'*.\n",
    "- There are 58 NA values in the *is_reweet* column. There is no NA values for other columns.\n",
    "- There is a combination of retweet and original tweets\n",
    "- The retweet_count fluctunate a lot, ranging from 0 to 36,9530. The fluctuation maybe related to time, and the text of tweet, is_reweet.\n",
    "- 8 different devices are used."
   ]
  },
  {
   "cell_type": "markdown",
   "id": "14e5cf8e",
   "metadata": {},
   "source": [
    "#### Clean the data. "
   ]
  },
  {
   "cell_type": "markdown",
   "id": "3ff0418e",
   "metadata": {},
   "source": [
    "#### Rremove the rows with NA values"
   ]
  },
  {
   "cell_type": "code",
   "execution_count": 148,
   "id": "6156dd54",
   "metadata": {},
   "outputs": [
    {
     "data": {
      "text/plain": [
       "(18409, 7)"
      ]
     },
     "execution_count": 148,
     "metadata": {},
     "output_type": "execute_result"
    }
   ],
   "source": [
    "data = data.dropna()\n",
    "data.shape"
   ]
  },
  {
   "cell_type": "markdown",
   "id": "ef606c2f",
   "metadata": {},
   "source": [
    "**Rationale:** \\\n",
    "Removing NA values is convenient for downstream analysis. And there are only 58 rows containing NA values, which only accounts for less than 1% of the total data set. Therefore, it is okay to remove these rows without much change to the overall data set. "
   ]
  },
  {
   "cell_type": "markdown",
   "id": "dff530e4",
   "metadata": {},
   "source": [
    "#### Cleaning Twitter texual data"
   ]
  },
  {
   "cell_type": "code",
   "execution_count": 149,
   "id": "24d900cb",
   "metadata": {},
   "outputs": [
    {
     "data": {
      "text/plain": [
       "0        RT @ScottAdamsSays: Malaria drug and zinc the ...\n",
       "1        RT @YoungDems4Trump: In Democrat cities you ca...\n",
       "2        RT @YoungDems4Trump: So sad. This poor busines...\n",
       "3         Time for a change! #2020 https://t.co/AECy2GBfys\n",
       "4        RT @TallahForTrump: Trump spoke at my church i...\n",
       "                               ...                        \n",
       "18462    January 20th 2017 will be remembered as the da...\n",
       "18463    What truly matters is not which party controls...\n",
       "18464    power from Washington D.C. and giving it back ...\n",
       "18465    Today we are not merely transferring power fro...\n",
       "18466    It all begins today! I will see you at 11:00 A...\n",
       "Name: text, Length: 18409, dtype: object"
      ]
     },
     "execution_count": 149,
     "metadata": {},
     "output_type": "execute_result"
    }
   ],
   "source": [
    "data['text']"
   ]
  },
  {
   "cell_type": "code",
   "execution_count": 150,
   "id": "a60493f9",
   "metadata": {},
   "outputs": [],
   "source": [
    "def text_clean(text):\n",
    "    text = text.lower() # lowercase\n",
    "    text = re.sub(r'http\\S+', '', text) # remove url\n",
    "    #text = re.sub(r\"(?<![@\\w])@(\\w{1,25}(:|))\", '', text) #remove @\n",
    "    text = re.sub(r'\\brt\\b', '', text) # remove rt\n",
    "    text = re.sub(r\"(?<![#\\w])#(\\w{1,25})\", '',text) #remove hashtags, including the text after hashtags\n",
    "    #text = re.sub(r\"[^\\w\\s]\", '',text) #remove puntucation\n",
    "    text = re.sub(r\"\\s+\", ' ',text) #remove multiple space\n",
    "    text = re.sub(r\"[0-9]\", '',text) #remove numbers\n",
    "    return text"
   ]
  },
  {
   "cell_type": "code",
   "execution_count": 151,
   "id": "ad1b4d09",
   "metadata": {},
   "outputs": [],
   "source": [
    "# Apply the text_clean funtion to the text column and create a new column called clean_text\n",
    "data['clean_text'] = data.text.apply(text_clean)"
   ]
  },
  {
   "cell_type": "code",
   "execution_count": 152,
   "id": "31a2cc7d",
   "metadata": {},
   "outputs": [
    {
     "data": {
      "text/html": [
       "<div>\n",
       "<style scoped>\n",
       "    .dataframe tbody tr th:only-of-type {\n",
       "        vertical-align: middle;\n",
       "    }\n",
       "\n",
       "    .dataframe tbody tr th {\n",
       "        vertical-align: top;\n",
       "    }\n",
       "\n",
       "    .dataframe thead th {\n",
       "        text-align: right;\n",
       "    }\n",
       "</style>\n",
       "<table border=\"1\" class=\"dataframe\">\n",
       "  <thead>\n",
       "    <tr style=\"text-align: right;\">\n",
       "      <th></th>\n",
       "      <th>text</th>\n",
       "      <th>clean_text</th>\n",
       "    </tr>\n",
       "  </thead>\n",
       "  <tbody>\n",
       "    <tr>\n",
       "      <th>0</th>\n",
       "      <td>RT @ScottAdamsSays: Malaria drug and zinc the ...</td>\n",
       "      <td>@scottadamssays: malaria drug and zinc the mi...</td>\n",
       "    </tr>\n",
       "    <tr>\n",
       "      <th>1</th>\n",
       "      <td>RT @YoungDems4Trump: In Democrat cities you ca...</td>\n",
       "      <td>@youngdemstrump: in democrat cities you can g...</td>\n",
       "    </tr>\n",
       "    <tr>\n",
       "      <th>2</th>\n",
       "      <td>RT @YoungDems4Trump: So sad. This poor busines...</td>\n",
       "      <td>@youngdemstrump: so sad. this poor business o...</td>\n",
       "    </tr>\n",
       "    <tr>\n",
       "      <th>3</th>\n",
       "      <td>Time for a change! #2020 https://t.co/AECy2GBfys</td>\n",
       "      <td>time for a change!</td>\n",
       "    </tr>\n",
       "  </tbody>\n",
       "</table>\n",
       "</div>"
      ],
      "text/plain": [
       "                                                text  \\\n",
       "0  RT @ScottAdamsSays: Malaria drug and zinc the ...   \n",
       "1  RT @YoungDems4Trump: In Democrat cities you ca...   \n",
       "2  RT @YoungDems4Trump: So sad. This poor busines...   \n",
       "3   Time for a change! #2020 https://t.co/AECy2GBfys   \n",
       "\n",
       "                                          clean_text  \n",
       "0   @scottadamssays: malaria drug and zinc the mi...  \n",
       "1   @youngdemstrump: in democrat cities you can g...  \n",
       "2   @youngdemstrump: so sad. this poor business o...  \n",
       "3                                time for a change!   "
      ]
     },
     "execution_count": 152,
     "metadata": {},
     "output_type": "execute_result"
    }
   ],
   "source": [
    "# display and compare\n",
    "data.loc[0:3,['text','clean_text']]"
   ]
  },
  {
   "cell_type": "markdown",
   "id": "7fa74cca",
   "metadata": {},
   "source": [
    "**Rationale:** \n",
    " - Text need to be lowercase to keep uniform.\n",
    " - Raw twitter text contains urls that are not very informative. Therefore, remove the urls.\n",
    " - Keep @people for now since we can use the tweet tokenizer to deal with @ in downstream analysis.\n",
    " - Keep the puncutations for now, or it will remove @. I'll clean the punctuation after tokenization.\n",
    " - Remove \"RT\" since the retweet information is already be captured by @ and the is_retweet column. \"RT\" is redundant."
   ]
  },
  {
   "cell_type": "markdown",
   "id": "58f91604",
   "metadata": {},
   "source": [
    "### Tokenization"
   ]
  },
  {
   "cell_type": "markdown",
   "id": "06d4ea2e",
   "metadata": {},
   "source": [
    "1) NLTK tokenizer"
   ]
  },
  {
   "cell_type": "code",
   "execution_count": 153,
   "id": "6329f055",
   "metadata": {},
   "outputs": [],
   "source": [
    "from nltk.tokenize import word_tokenize"
   ]
  },
  {
   "cell_type": "code",
   "execution_count": 154,
   "id": "2b36f74e",
   "metadata": {},
   "outputs": [],
   "source": [
    "data['nltk_tokenizer'] = data.clean_text.apply(word_tokenize)"
   ]
  },
  {
   "cell_type": "markdown",
   "id": "bdd01caa",
   "metadata": {},
   "source": [
    "2) Tweet tokenizer"
   ]
  },
  {
   "cell_type": "code",
   "execution_count": 155,
   "id": "343b85b5",
   "metadata": {},
   "outputs": [],
   "source": [
    "from nltk.tokenize import TweetTokenizer"
   ]
  },
  {
   "cell_type": "code",
   "execution_count": 156,
   "id": "23e6231e",
   "metadata": {
    "scrolled": true
   },
   "outputs": [],
   "source": [
    "tk = TweetTokenizer()\n",
    "data['tweet_tokenizer'] = data.clean_text.apply(tk.tokenize)"
   ]
  },
  {
   "cell_type": "markdown",
   "id": "9cfebd62",
   "metadata": {},
   "source": [
    "3) NLTK WhitespaceTokenizer"
   ]
  },
  {
   "cell_type": "code",
   "execution_count": 157,
   "id": "f224ddb7",
   "metadata": {},
   "outputs": [],
   "source": [
    "from nltk.tokenize import WhitespaceTokenizer"
   ]
  },
  {
   "cell_type": "code",
   "execution_count": 158,
   "id": "fb165b1a",
   "metadata": {},
   "outputs": [],
   "source": [
    "wk = WhitespaceTokenizer()\n",
    "data['white_tokenizer'] = data.clean_text.apply(wk.tokenize)"
   ]
  },
  {
   "cell_type": "markdown",
   "id": "89b7aa4b",
   "metadata": {},
   "source": [
    "#### Display and compare"
   ]
  },
  {
   "cell_type": "code",
   "execution_count": 159,
   "id": "aa3ce8e4",
   "metadata": {},
   "outputs": [
    {
     "data": {
      "text/html": [
       "<div>\n",
       "<style scoped>\n",
       "    .dataframe tbody tr th:only-of-type {\n",
       "        vertical-align: middle;\n",
       "    }\n",
       "\n",
       "    .dataframe tbody tr th {\n",
       "        vertical-align: top;\n",
       "    }\n",
       "\n",
       "    .dataframe thead th {\n",
       "        text-align: right;\n",
       "    }\n",
       "</style>\n",
       "<table border=\"1\" class=\"dataframe\">\n",
       "  <thead>\n",
       "    <tr style=\"text-align: right;\">\n",
       "      <th></th>\n",
       "      <th>nltk_tokenizer</th>\n",
       "      <th>tweet_tokenizer</th>\n",
       "      <th>white_tokenizer</th>\n",
       "    </tr>\n",
       "  </thead>\n",
       "  <tbody>\n",
       "    <tr>\n",
       "      <th>0</th>\n",
       "      <td>[@, scottadamssays, :, malaria, drug, and, zin...</td>\n",
       "      <td>[@scottadamssays, :, malaria, drug, and, zinc,...</td>\n",
       "      <td>[@scottadamssays:, malaria, drug, and, zinc, t...</td>\n",
       "    </tr>\n",
       "    <tr>\n",
       "      <th>1</th>\n",
       "      <td>[@, youngdemstrump, :, in, democrat, cities, y...</td>\n",
       "      <td>[@youngdemstrump, :, in, democrat, cities, you...</td>\n",
       "      <td>[@youngdemstrump:, in, democrat, cities, you, ...</td>\n",
       "    </tr>\n",
       "    <tr>\n",
       "      <th>2</th>\n",
       "      <td>[@, youngdemstrump, :, so, sad, ., this, poor,...</td>\n",
       "      <td>[@youngdemstrump, :, so, sad, ., this, poor, b...</td>\n",
       "      <td>[@youngdemstrump:, so, sad., this, poor, busin...</td>\n",
       "    </tr>\n",
       "    <tr>\n",
       "      <th>3</th>\n",
       "      <td>[time, for, a, change, !]</td>\n",
       "      <td>[time, for, a, change, !]</td>\n",
       "      <td>[time, for, a, change!]</td>\n",
       "    </tr>\n",
       "    <tr>\n",
       "      <th>4</th>\n",
       "      <td>[@, tallahfortrump, :, trump, spoke, at, my, c...</td>\n",
       "      <td>[@tallahfortrump, :, trump, spoke, at, my, chu...</td>\n",
       "      <td>[@tallahfortrump:, trump, spoke, at, my, churc...</td>\n",
       "    </tr>\n",
       "  </tbody>\n",
       "</table>\n",
       "</div>"
      ],
      "text/plain": [
       "                                      nltk_tokenizer  \\\n",
       "0  [@, scottadamssays, :, malaria, drug, and, zin...   \n",
       "1  [@, youngdemstrump, :, in, democrat, cities, y...   \n",
       "2  [@, youngdemstrump, :, so, sad, ., this, poor,...   \n",
       "3                          [time, for, a, change, !]   \n",
       "4  [@, tallahfortrump, :, trump, spoke, at, my, c...   \n",
       "\n",
       "                                     tweet_tokenizer  \\\n",
       "0  [@scottadamssays, :, malaria, drug, and, zinc,...   \n",
       "1  [@youngdemstrump, :, in, democrat, cities, you...   \n",
       "2  [@youngdemstrump, :, so, sad, ., this, poor, b...   \n",
       "3                          [time, for, a, change, !]   \n",
       "4  [@tallahfortrump, :, trump, spoke, at, my, chu...   \n",
       "\n",
       "                                     white_tokenizer  \n",
       "0  [@scottadamssays:, malaria, drug, and, zinc, t...  \n",
       "1  [@youngdemstrump:, in, democrat, cities, you, ...  \n",
       "2  [@youngdemstrump:, so, sad., this, poor, busin...  \n",
       "3                            [time, for, a, change!]  \n",
       "4  [@tallahfortrump:, trump, spoke, at, my, churc...  "
      ]
     },
     "execution_count": 159,
     "metadata": {},
     "output_type": "execute_result"
    }
   ],
   "source": [
    "# Put clean_text and results of tokenizers into a dataframe\n",
    "df_tokenizer = pd.DataFrame([data.nltk_tokenizer, data.tweet_tokenizer,data.white_tokenizer]).transpose()\n",
    "# display\n",
    "df_tokenizer.head()"
   ]
  },
  {
   "cell_type": "markdown",
   "id": "c3024b36",
   "metadata": {},
   "source": [
    "The nltk tokenizer separate by puncutaions and space. So, @ and scottadamssays got separated. \n",
    "The tweet tokenizer can identify @scottadamssay as an inseparable part. \n",
    "The white tokenizer only separate sentences by white space. "
   ]
  },
  {
   "cell_type": "markdown",
   "id": "e4810aa7",
   "metadata": {},
   "source": [
    "#### Compare tokenizers"
   ]
  },
  {
   "cell_type": "code",
   "execution_count": 160,
   "id": "ea1e71c8",
   "metadata": {},
   "outputs": [
    {
     "data": {
      "text/plain": [
       "clean_text          @jim_jordan: right on! we don’t have to pay o...\n",
       "nltk_tokenizer     [@, jim_jordan, :, right, on, !, we, don, ’, t...\n",
       "tweet_tokenizer    [@jim_jordan, :, right, on, !, we, don, ’, t, ...\n",
       "white_tokenizer    [@jim_jordan:, right, on!, we, don’t, have, to...\n",
       "Name: 6, dtype: object"
      ]
     },
     "execution_count": 160,
     "metadata": {},
     "output_type": "execute_result"
    }
   ],
   "source": [
    "# Look closely into specific texts\n",
    "data.loc[6,['clean_text','nltk_tokenizer','tweet_tokenizer','white_tokenizer']]"
   ]
  },
  {
   "cell_type": "markdown",
   "id": "c88d3ae8",
   "metadata": {},
   "source": [
    "**Comparison**\n",
    "- The nltk tokenizer dose not work well when it runs to @.\n",
    "- The tweet tokenizer and whitespace tokenizer treat @jim_jordan as inseparable. This makes sense.\n",
    "- The whitespace tokenizer cannot separate \"on!\" since there is no space between \"on\" and \"!\". This is not the desired result. The puncutations right after a word bring noise to the text.\n",
    "\n",
    "**Conclusion**\n",
    "- The tweet tokenizer works the best. \n",
    "- It can recognize @people as a whole part, and also does a good job to separate by other punctuaions and white space."
   ]
  },
  {
   "cell_type": "markdown",
   "id": "a4344714",
   "metadata": {},
   "source": [
    "### Analyze Data for Sentiment with 3 methods, namely VADER, Textblob, and Empath"
   ]
  },
  {
   "cell_type": "code",
   "execution_count": 161,
   "id": "bc6af7b1",
   "metadata": {},
   "outputs": [
    {
     "data": {
      "text/html": [
       "<div>\n",
       "<style scoped>\n",
       "    .dataframe tbody tr th:only-of-type {\n",
       "        vertical-align: middle;\n",
       "    }\n",
       "\n",
       "    .dataframe tbody tr th {\n",
       "        vertical-align: top;\n",
       "    }\n",
       "\n",
       "    .dataframe thead th {\n",
       "        text-align: right;\n",
       "    }\n",
       "</style>\n",
       "<table border=\"1\" class=\"dataframe\">\n",
       "  <thead>\n",
       "    <tr style=\"text-align: right;\">\n",
       "      <th></th>\n",
       "      <th>clean_text</th>\n",
       "    </tr>\n",
       "  </thead>\n",
       "  <tbody>\n",
       "    <tr>\n",
       "      <th>0</th>\n",
       "      <td>@scottadamssays: malaria drug and zinc the mi...</td>\n",
       "    </tr>\n",
       "    <tr>\n",
       "      <th>1</th>\n",
       "      <td>@youngdemstrump: in democrat cities you can g...</td>\n",
       "    </tr>\n",
       "    <tr>\n",
       "      <th>2</th>\n",
       "      <td>@youngdemstrump: so sad. this poor business o...</td>\n",
       "    </tr>\n",
       "    <tr>\n",
       "      <th>3</th>\n",
       "      <td>time for a change!</td>\n",
       "    </tr>\n",
       "    <tr>\n",
       "      <th>4</th>\n",
       "      <td>@tallahfortrump: trump spoke at my church in ...</td>\n",
       "    </tr>\n",
       "  </tbody>\n",
       "</table>\n",
       "</div>"
      ],
      "text/plain": [
       "                                          clean_text\n",
       "0   @scottadamssays: malaria drug and zinc the mi...\n",
       "1   @youngdemstrump: in democrat cities you can g...\n",
       "2   @youngdemstrump: so sad. this poor business o...\n",
       "3                                time for a change! \n",
       "4   @tallahfortrump: trump spoke at my church in ..."
      ]
     },
     "execution_count": 161,
     "metadata": {},
     "output_type": "execute_result"
    }
   ],
   "source": [
    "# prepare the dataframe for sentiment analysis\n",
    "df_sent = pd.DataFrame([data.clean_text]).transpose()\n",
    "df_sent.head()"
   ]
  },
  {
   "cell_type": "markdown",
   "id": "f3907379",
   "metadata": {},
   "source": [
    "1) VADER"
   ]
  },
  {
   "cell_type": "code",
   "execution_count": 162,
   "id": "1506256a",
   "metadata": {},
   "outputs": [],
   "source": [
    "from vaderSentiment.vaderSentiment import SentimentIntensityAnalyzer"
   ]
  },
  {
   "cell_type": "code",
   "execution_count": 163,
   "id": "3a76e73f",
   "metadata": {},
   "outputs": [],
   "source": [
    "analyzer = SentimentIntensityAnalyzer()\n",
    "def sentInterpret(text):\n",
    "    score = analyzer.polarity_scores(text)\n",
    "    com = score['compound']\n",
    "    if com >= 0.05:\n",
    "        sent = 'positive'\n",
    "    elif com <= -0.05:\n",
    "        sent = 'negative'\n",
    "    else:\n",
    "        sent = 'neutral'\n",
    "    return sent"
   ]
  },
  {
   "cell_type": "code",
   "execution_count": 164,
   "id": "acd878a4",
   "metadata": {},
   "outputs": [],
   "source": [
    "df_sent['vader'] = df_sent.clean_text.apply(analyzer.polarity_scores)"
   ]
  },
  {
   "cell_type": "code",
   "execution_count": 165,
   "id": "b3c98b94",
   "metadata": {},
   "outputs": [],
   "source": [
    "df_sent['vader_compound'] = df_sent.clean_text.apply(sentInterpret)"
   ]
  },
  {
   "cell_type": "code",
   "execution_count": 166,
   "id": "9e398901",
   "metadata": {
    "scrolled": false
   },
   "outputs": [
    {
     "data": {
      "text/html": [
       "<div>\n",
       "<style scoped>\n",
       "    .dataframe tbody tr th:only-of-type {\n",
       "        vertical-align: middle;\n",
       "    }\n",
       "\n",
       "    .dataframe tbody tr th {\n",
       "        vertical-align: top;\n",
       "    }\n",
       "\n",
       "    .dataframe thead th {\n",
       "        text-align: right;\n",
       "    }\n",
       "</style>\n",
       "<table border=\"1\" class=\"dataframe\">\n",
       "  <thead>\n",
       "    <tr style=\"text-align: right;\">\n",
       "      <th></th>\n",
       "      <th>clean_text</th>\n",
       "      <th>vader</th>\n",
       "      <th>vader_compound</th>\n",
       "    </tr>\n",
       "  </thead>\n",
       "  <tbody>\n",
       "    <tr>\n",
       "      <th>0</th>\n",
       "      <td>@scottadamssays: malaria drug and zinc the mi...</td>\n",
       "      <td>{'neg': 0.196, 'neu': 0.804, 'pos': 0.0, 'comp...</td>\n",
       "      <td>negative</td>\n",
       "    </tr>\n",
       "    <tr>\n",
       "      <th>1</th>\n",
       "      <td>@youngdemstrump: in democrat cities you can g...</td>\n",
       "      <td>{'neg': 0.114, 'neu': 0.886, 'pos': 0.0, 'comp...</td>\n",
       "      <td>negative</td>\n",
       "    </tr>\n",
       "    <tr>\n",
       "      <th>2</th>\n",
       "      <td>@youngdemstrump: so sad. this poor business o...</td>\n",
       "      <td>{'neg': 0.517, 'neu': 0.483, 'pos': 0.0, 'comp...</td>\n",
       "      <td>negative</td>\n",
       "    </tr>\n",
       "    <tr>\n",
       "      <th>3</th>\n",
       "      <td>time for a change!</td>\n",
       "      <td>{'neg': 0.0, 'neu': 1.0, 'pos': 0.0, 'compound...</td>\n",
       "      <td>neutral</td>\n",
       "    </tr>\n",
       "    <tr>\n",
       "      <th>4</th>\n",
       "      <td>@tallahfortrump: trump spoke at my church in ...</td>\n",
       "      <td>{'neg': 0.0, 'neu': 1.0, 'pos': 0.0, 'compound...</td>\n",
       "      <td>neutral</td>\n",
       "    </tr>\n",
       "  </tbody>\n",
       "</table>\n",
       "</div>"
      ],
      "text/plain": [
       "                                          clean_text  \\\n",
       "0   @scottadamssays: malaria drug and zinc the mi...   \n",
       "1   @youngdemstrump: in democrat cities you can g...   \n",
       "2   @youngdemstrump: so sad. this poor business o...   \n",
       "3                                time for a change!    \n",
       "4   @tallahfortrump: trump spoke at my church in ...   \n",
       "\n",
       "                                               vader vader_compound  \n",
       "0  {'neg': 0.196, 'neu': 0.804, 'pos': 0.0, 'comp...       negative  \n",
       "1  {'neg': 0.114, 'neu': 0.886, 'pos': 0.0, 'comp...       negative  \n",
       "2  {'neg': 0.517, 'neu': 0.483, 'pos': 0.0, 'comp...       negative  \n",
       "3  {'neg': 0.0, 'neu': 1.0, 'pos': 0.0, 'compound...        neutral  \n",
       "4  {'neg': 0.0, 'neu': 1.0, 'pos': 0.0, 'compound...        neutral  "
      ]
     },
     "execution_count": 166,
     "metadata": {},
     "output_type": "execute_result"
    }
   ],
   "source": [
    "df_sent.head()"
   ]
  },
  {
   "cell_type": "code",
   "execution_count": 167,
   "id": "4c3e6b74",
   "metadata": {},
   "outputs": [],
   "source": [
    "# note: three probabilities (neg, neu, pos) will add up to 100%."
   ]
  },
  {
   "cell_type": "code",
   "execution_count": 168,
   "id": "4966e1cc",
   "metadata": {
    "scrolled": true
   },
   "outputs": [
    {
     "data": {
      "text/plain": [
       "positive    9437\n",
       "negative    5405\n",
       "neutral     3567\n",
       "Name: vader_compound, dtype: int64"
      ]
     },
     "execution_count": 168,
     "metadata": {},
     "output_type": "execute_result"
    }
   ],
   "source": [
    "# Check the distribution of vader sentiment\n",
    "df_sent['vader_compound'].value_counts()"
   ]
  },
  {
   "cell_type": "code",
   "execution_count": 169,
   "id": "c5542231",
   "metadata": {},
   "outputs": [
    {
     "name": "stdout",
     "output_type": "stream",
     "text": [
      "Percentage of Positive Tweets:  51.26\n",
      "Percentage of Negative Tweets:  29.36\n",
      "Percentage of Neutral Tweets:  19.38\n"
     ]
    }
   ],
   "source": [
    "print('Percentage of Positive Tweets: ', round(df_sent['vader_compound'].value_counts()[0]/df_sent.shape[0]*100, 2))\n",
    "print('Percentage of Negative Tweets: ', round(df_sent['vader_compound'].value_counts()[1]/df_sent.shape[0]*100, 2))\n",
    "print('Percentage of Neutral Tweets: ', round(df_sent['vader_compound'].value_counts()[2]/df_sent.shape[0]*100, 2))"
   ]
  },
  {
   "cell_type": "markdown",
   "id": "45570737",
   "metadata": {},
   "source": [
    "**Observation**\n",
    "\n",
    "- Based on the compound value of VADER, I categorized tweets into 3 polarities, namely \"positive\", \"negative\", and \"neutral\".\n",
    "- The distribution shows that 51.26% of tweets are positive, 29.36% of tweets are negative. This indicates that the overall sentiment of the tweets are positive."
   ]
  },
  {
   "cell_type": "markdown",
   "id": "5b5c5bfa",
   "metadata": {},
   "source": [
    "2) TextBlob"
   ]
  },
  {
   "cell_type": "code",
   "execution_count": 170,
   "id": "58dcd931",
   "metadata": {},
   "outputs": [],
   "source": [
    "from textblob import TextBlob"
   ]
  },
  {
   "cell_type": "code",
   "execution_count": 171,
   "id": "6ad50531",
   "metadata": {},
   "outputs": [],
   "source": [
    "df_sent['textblob_polarity'] = df_sent['clean_text'].apply(lambda tweet: TextBlob(tweet).sentiment[0])\n",
    "df_sent['textblob_subjectivity'] = df_sent['clean_text'].apply(lambda tweet: TextBlob(tweet).sentiment[1])"
   ]
  },
  {
   "cell_type": "code",
   "execution_count": 172,
   "id": "d314495c",
   "metadata": {
    "scrolled": true
   },
   "outputs": [
    {
     "data": {
      "text/html": [
       "<div>\n",
       "<style scoped>\n",
       "    .dataframe tbody tr th:only-of-type {\n",
       "        vertical-align: middle;\n",
       "    }\n",
       "\n",
       "    .dataframe tbody tr th {\n",
       "        vertical-align: top;\n",
       "    }\n",
       "\n",
       "    .dataframe thead th {\n",
       "        text-align: right;\n",
       "    }\n",
       "</style>\n",
       "<table border=\"1\" class=\"dataframe\">\n",
       "  <thead>\n",
       "    <tr style=\"text-align: right;\">\n",
       "      <th></th>\n",
       "      <th>clean_text</th>\n",
       "      <th>vader</th>\n",
       "      <th>vader_compound</th>\n",
       "      <th>textblob_polarity</th>\n",
       "      <th>textblob_subjectivity</th>\n",
       "    </tr>\n",
       "  </thead>\n",
       "  <tbody>\n",
       "    <tr>\n",
       "      <th>0</th>\n",
       "      <td>@scottadamssays: malaria drug and zinc the mi...</td>\n",
       "      <td>{'neg': 0.196, 'neu': 0.804, 'pos': 0.0, 'comp...</td>\n",
       "      <td>negative</td>\n",
       "      <td>-0.200000</td>\n",
       "      <td>0.050000</td>\n",
       "    </tr>\n",
       "    <tr>\n",
       "      <th>1</th>\n",
       "      <td>@youngdemstrump: in democrat cities you can g...</td>\n",
       "      <td>{'neg': 0.114, 'neu': 0.886, 'pos': 0.0, 'comp...</td>\n",
       "      <td>negative</td>\n",
       "      <td>0.000000</td>\n",
       "      <td>0.000000</td>\n",
       "    </tr>\n",
       "    <tr>\n",
       "      <th>2</th>\n",
       "      <td>@youngdemstrump: so sad. this poor business o...</td>\n",
       "      <td>{'neg': 0.517, 'neu': 0.483, 'pos': 0.0, 'comp...</td>\n",
       "      <td>negative</td>\n",
       "      <td>-0.341667</td>\n",
       "      <td>0.658333</td>\n",
       "    </tr>\n",
       "    <tr>\n",
       "      <th>3</th>\n",
       "      <td>time for a change!</td>\n",
       "      <td>{'neg': 0.0, 'neu': 1.0, 'pos': 0.0, 'compound...</td>\n",
       "      <td>neutral</td>\n",
       "      <td>0.000000</td>\n",
       "      <td>0.000000</td>\n",
       "    </tr>\n",
       "    <tr>\n",
       "      <th>4</th>\n",
       "      <td>@tallahfortrump: trump spoke at my church in ...</td>\n",
       "      <td>{'neg': 0.0, 'neu': 1.0, 'pos': 0.0, 'compound...</td>\n",
       "      <td>neutral</td>\n",
       "      <td>0.000000</td>\n",
       "      <td>0.000000</td>\n",
       "    </tr>\n",
       "  </tbody>\n",
       "</table>\n",
       "</div>"
      ],
      "text/plain": [
       "                                          clean_text  \\\n",
       "0   @scottadamssays: malaria drug and zinc the mi...   \n",
       "1   @youngdemstrump: in democrat cities you can g...   \n",
       "2   @youngdemstrump: so sad. this poor business o...   \n",
       "3                                time for a change!    \n",
       "4   @tallahfortrump: trump spoke at my church in ...   \n",
       "\n",
       "                                               vader vader_compound  \\\n",
       "0  {'neg': 0.196, 'neu': 0.804, 'pos': 0.0, 'comp...       negative   \n",
       "1  {'neg': 0.114, 'neu': 0.886, 'pos': 0.0, 'comp...       negative   \n",
       "2  {'neg': 0.517, 'neu': 0.483, 'pos': 0.0, 'comp...       negative   \n",
       "3  {'neg': 0.0, 'neu': 1.0, 'pos': 0.0, 'compound...        neutral   \n",
       "4  {'neg': 0.0, 'neu': 1.0, 'pos': 0.0, 'compound...        neutral   \n",
       "\n",
       "   textblob_polarity  textblob_subjectivity  \n",
       "0          -0.200000               0.050000  \n",
       "1           0.000000               0.000000  \n",
       "2          -0.341667               0.658333  \n",
       "3           0.000000               0.000000  \n",
       "4           0.000000               0.000000  "
      ]
     },
     "execution_count": 172,
     "metadata": {},
     "output_type": "execute_result"
    }
   ],
   "source": [
    "df_sent.head()"
   ]
  },
  {
   "cell_type": "markdown",
   "id": "1094f18e",
   "metadata": {},
   "source": [
    "- For TextBlob, the polarity score is a float within the range [-1.0, 1.0].  -1 defines a negative sentiment and 1 defines a positive sentiment\n",
    "- The subjectivity is a float within the range [0.0, 1.0] where 0.0 is very objective and 1.0 is very subjective."
   ]
  },
  {
   "cell_type": "code",
   "execution_count": 217,
   "id": "a2c6aab9",
   "metadata": {},
   "outputs": [
    {
     "data": {
      "text/plain": [
       "<AxesSubplot:ylabel='Frequency'>"
      ]
     },
     "execution_count": 217,
     "metadata": {},
     "output_type": "execute_result"
    },
    {
     "data": {
      "image/png": "[encoded data removed]",
      "text/plain": [
       "<Figure size 576x288 with 1 Axes>"
      ]
     },
     "metadata": {
      "needs_background": "light"
     },
     "output_type": "display_data"
    }
   ],
   "source": [
    "# Plot of the sentiment polarity\n",
    "plt.rcParams[\"figure.figsize\"] = (8,4)\n",
    "df_sent.textblob_polarity.plot.hist(bins=20, alpha=0.5)"
   ]
  },
  {
   "cell_type": "code",
   "execution_count": 218,
   "id": "69828a8e",
   "metadata": {},
   "outputs": [
    {
     "data": {
      "text/plain": [
       "<AxesSubplot:ylabel='Frequency'>"
      ]
     },
     "execution_count": 218,
     "metadata": {},
     "output_type": "execute_result"
    },
    {
     "data": {
      "image/png": "[encoded data removed]",
      "text/plain": [
       "<Figure size 576x288 with 1 Axes>"
      ]
     },
     "metadata": {
      "needs_background": "light"
     },
     "output_type": "display_data"
    }
   ],
   "source": [
    "# Plot of the subjectivity\n",
    "plt.rcParams[\"figure.figsize\"] = (8,4)\n",
    "df_sent.textblob_subjectivity.plot.hist(bins=20, alpha=0.5)"
   ]
  },
  {
   "cell_type": "markdown",
   "id": "a844981c",
   "metadata": {},
   "source": [
    "**Observation**\n",
    "\n",
    "- Based on the histogram of sentiment polarity, most of the tweets are neutral. \n",
    "- There are more positive tweets than negative tweets. This is aligned with the VADER result.\n",
    "- Based on histogram of subjectivity, there are many objective tweets (near the 0.0 x-axis), indicating that Trump's tweets tend to convey objective feelings and opinions, rather than subjective facts."
   ]
  },
  {
   "cell_type": "markdown",
   "id": "3a34e681",
   "metadata": {},
   "source": [
    "3) Empath"
   ]
  },
  {
   "cell_type": "code",
   "execution_count": 175,
   "id": "c71c7db7",
   "metadata": {},
   "outputs": [],
   "source": [
    "from empath import Empath"
   ]
  },
  {
   "cell_type": "code",
   "execution_count": 176,
   "id": "1192dad6",
   "metadata": {},
   "outputs": [],
   "source": [
    "lexicon = Empath()\n",
    "def empath_text(text):\n",
    "    cat_list = []\n",
    "    categ = lexicon.analyze(text, normalize=True)\n",
    "    try:\n",
    "        for key, value in categ.items():\n",
    "            if value != 0:\n",
    "               cat_list.append(key)\n",
    "    except:\n",
    "        pass\n",
    "    return cat_list"
   ]
  },
  {
   "cell_type": "code",
   "execution_count": 177,
   "id": "0963e70e",
   "metadata": {},
   "outputs": [],
   "source": [
    "df_sent['empath'] = df_sent.clean_text.apply(empath_text)"
   ]
  },
  {
   "cell_type": "code",
   "execution_count": 180,
   "id": "9383d6d1",
   "metadata": {
    "scrolled": false
   },
   "outputs": [
    {
     "data": {
      "text/html": [
       "<div>\n",
       "<style scoped>\n",
       "    .dataframe tbody tr th:only-of-type {\n",
       "        vertical-align: middle;\n",
       "    }\n",
       "\n",
       "    .dataframe tbody tr th {\n",
       "        vertical-align: top;\n",
       "    }\n",
       "\n",
       "    .dataframe thead th {\n",
       "        text-align: right;\n",
       "    }\n",
       "</style>\n",
       "<table border=\"1\" class=\"dataframe\">\n",
       "  <thead>\n",
       "    <tr style=\"text-align: right;\">\n",
       "      <th></th>\n",
       "      <th>clean_text</th>\n",
       "      <th>vader</th>\n",
       "      <th>vader_compound</th>\n",
       "      <th>textblob_polarity</th>\n",
       "      <th>textblob_subjectivity</th>\n",
       "      <th>empath</th>\n",
       "    </tr>\n",
       "  </thead>\n",
       "  <tbody>\n",
       "    <tr>\n",
       "      <th>0</th>\n",
       "      <td>@scottadamssays: malaria drug and zinc the mi...</td>\n",
       "      <td>{'neg': 0.196, 'neu': 0.804, 'pos': 0.0, 'comp...</td>\n",
       "      <td>negative</td>\n",
       "      <td>-0.200000</td>\n",
       "      <td>0.050000</td>\n",
       "      <td>[health, internet, messaging]</td>\n",
       "    </tr>\n",
       "    <tr>\n",
       "      <th>1</th>\n",
       "      <td>@youngdemstrump: in democrat cities you can g...</td>\n",
       "      <td>{'neg': 0.114, 'neu': 0.886, 'pos': 0.0, 'comp...</td>\n",
       "      <td>negative</td>\n",
       "      <td>0.000000</td>\n",
       "      <td>0.000000</td>\n",
       "      <td>[business]</td>\n",
       "    </tr>\n",
       "    <tr>\n",
       "      <th>2</th>\n",
       "      <td>@youngdemstrump: so sad. this poor business o...</td>\n",
       "      <td>{'neg': 0.517, 'neu': 0.483, 'pos': 0.0, 'comp...</td>\n",
       "      <td>negative</td>\n",
       "      <td>-0.341667</td>\n",
       "      <td>0.658333</td>\n",
       "      <td>[occupation, wealthy, real_estate, business, p...</td>\n",
       "    </tr>\n",
       "  </tbody>\n",
       "</table>\n",
       "</div>"
      ],
      "text/plain": [
       "                                          clean_text  \\\n",
       "0   @scottadamssays: malaria drug and zinc the mi...   \n",
       "1   @youngdemstrump: in democrat cities you can g...   \n",
       "2   @youngdemstrump: so sad. this poor business o...   \n",
       "\n",
       "                                               vader vader_compound  \\\n",
       "0  {'neg': 0.196, 'neu': 0.804, 'pos': 0.0, 'comp...       negative   \n",
       "1  {'neg': 0.114, 'neu': 0.886, 'pos': 0.0, 'comp...       negative   \n",
       "2  {'neg': 0.517, 'neu': 0.483, 'pos': 0.0, 'comp...       negative   \n",
       "\n",
       "   textblob_polarity  textblob_subjectivity  \\\n",
       "0          -0.200000               0.050000   \n",
       "1           0.000000               0.000000   \n",
       "2          -0.341667               0.658333   \n",
       "\n",
       "                                              empath  \n",
       "0                      [health, internet, messaging]  \n",
       "1                                         [business]  \n",
       "2  [occupation, wealthy, real_estate, business, p...  "
      ]
     },
     "execution_count": 180,
     "metadata": {},
     "output_type": "execute_result"
    }
   ],
   "source": [
    "df_sent.head(3)"
   ]
  },
  {
   "cell_type": "code",
   "execution_count": 212,
   "id": "a6002893",
   "metadata": {},
   "outputs": [],
   "source": [
    "# Put empath outputs into a flat list\n",
    "list_empath = df_sent['empath'].to_list()\n",
    "flat_list = list(np.concatenate(list_empath).flat)\n",
    "\n",
    "# Count the frequencies of empath sentiments\n",
    "from collections import Counter\n",
    "counter=Counter(flat_list)\n",
    "inter=[list(counter.keys()),list(counter.values())]\n",
    "empath_count = pd.DataFrame(np.array(inter).T, columns=['Empath','Count'])\n",
    "empath_count['Count'] = empath_count['Count'].astype(int)\n",
    "empath_count = empath_count.sort_values(by ='Count', ascending=False )"
   ]
  },
  {
   "cell_type": "code",
   "execution_count": 213,
   "id": "fdfd7690",
   "metadata": {},
   "outputs": [
    {
     "data": {
      "text/html": [
       "<div>\n",
       "<style scoped>\n",
       "    .dataframe tbody tr th:only-of-type {\n",
       "        vertical-align: middle;\n",
       "    }\n",
       "\n",
       "    .dataframe tbody tr th {\n",
       "        vertical-align: top;\n",
       "    }\n",
       "\n",
       "    .dataframe thead th {\n",
       "        text-align: right;\n",
       "    }\n",
       "</style>\n",
       "<table border=\"1\" class=\"dataframe\">\n",
       "  <thead>\n",
       "    <tr style=\"text-align: right;\">\n",
       "      <th></th>\n",
       "      <th>Empath</th>\n",
       "      <th>Count</th>\n",
       "    </tr>\n",
       "  </thead>\n",
       "  <tbody>\n",
       "    <tr>\n",
       "      <th>30</th>\n",
       "      <td>leader</td>\n",
       "      <td>4367</td>\n",
       "    </tr>\n",
       "    <tr>\n",
       "      <th>73</th>\n",
       "      <td>government</td>\n",
       "      <td>4353</td>\n",
       "    </tr>\n",
       "    <tr>\n",
       "      <th>41</th>\n",
       "      <td>positive_emotion</td>\n",
       "      <td>4209</td>\n",
       "    </tr>\n",
       "    <tr>\n",
       "      <th>56</th>\n",
       "      <td>achievement</td>\n",
       "      <td>3961</td>\n",
       "    </tr>\n",
       "    <tr>\n",
       "      <th>3</th>\n",
       "      <td>business</td>\n",
       "      <td>3474</td>\n",
       "    </tr>\n",
       "    <tr>\n",
       "      <th>58</th>\n",
       "      <td>politics</td>\n",
       "      <td>3125</td>\n",
       "    </tr>\n",
       "    <tr>\n",
       "      <th>8</th>\n",
       "      <td>negative_emotion</td>\n",
       "      <td>3092</td>\n",
       "    </tr>\n",
       "    <tr>\n",
       "      <th>24</th>\n",
       "      <td>giving</td>\n",
       "      <td>3081</td>\n",
       "    </tr>\n",
       "    <tr>\n",
       "      <th>81</th>\n",
       "      <td>work</td>\n",
       "      <td>2854</td>\n",
       "    </tr>\n",
       "    <tr>\n",
       "      <th>91</th>\n",
       "      <td>law</td>\n",
       "      <td>2754</td>\n",
       "    </tr>\n",
       "  </tbody>\n",
       "</table>\n",
       "</div>"
      ],
      "text/plain": [
       "              Empath  Count\n",
       "30            leader   4367\n",
       "73        government   4353\n",
       "41  positive_emotion   4209\n",
       "56       achievement   3961\n",
       "3           business   3474\n",
       "58          politics   3125\n",
       "8   negative_emotion   3092\n",
       "24            giving   3081\n",
       "81              work   2854\n",
       "91               law   2754"
      ]
     },
     "execution_count": 213,
     "metadata": {},
     "output_type": "execute_result"
    }
   ],
   "source": [
    "# Show top 10 frequently mentioned Empath themes\n",
    "empath_count[0:10]"
   ]
  },
  {
   "cell_type": "markdown",
   "id": "2c96ffb7",
   "metadata": {},
   "source": [
    "**Observation**\n",
    "\n",
    "- As showed in the empath_count dataframe, \"leader\", \"government\" are the main and dominating themes of these tweets.\n",
    "- There are more positive_emotion thant negative_emotion. This is aligned with the VADER sentiment analysis, which shows 51.26% of tweets are positive, and 29.36% of tweets are negative."
   ]
  },
  {
   "cell_type": "markdown",
   "id": "d9fbde1a",
   "metadata": {},
   "source": [
    "#### Comparsion across the methods\n",
    "\n",
    "**Similarities:**\n",
    "- All 3 sentiment analysis methods are rule-based. So, there is no need to train and fit the data beforehand. The analysis is very fast.\n",
    "- Both VADER and Textblob output a numeric score from -1 to +1 of the sentiment, which is convenient to us in regression analysis.\n",
    "\n",
    "**Differences:**\n",
    "- Empath does not give a numeric score. Instead, it gives a list of themes that is contained in the text, such as \"health\", \"violence\". \n",
    "- VADER has already defined a rule/threshold to categorize into positive, negative, and neutral sentiments. Differently, TextBlob does not provide a threshold. Therefore, the boundaries between positive/negative and neutral is much more vague. Users need to define their own rules/threshold to categorize into positive, negative, and neutral sentiments.\n",
    "- VADER works better with microblog texts."
   ]
  },
  {
   "cell_type": "markdown",
   "id": "9042abbf",
   "metadata": {},
   "source": [
    "#### Quantitatively comparing methods"
   ]
  },
  {
   "cell_type": "markdown",
   "id": "783df8a3",
   "metadata": {},
   "source": [
    "**Rationale**:\n",
    "- Both the VADER and TextBlob report a numeric sentiment polarity score. The VADER already defines its way to categorize sentiment polarity into positive, negative, and neutral. So, I need to define a threshold to categorize TextBlob results into the positive, negative, and neutral in order to compare between these two methods.\n",
    "- Check the distribution of TextBlob's polarity results to decide the threshold.\n",
    "- See how many tweets are mactched beween VADER and TextBlob. \n",
    "- Divide the number by the total number of tweets to compute the proportion."
   ]
  },
  {
   "cell_type": "code",
   "execution_count": 161,
   "id": "b6f15a0e",
   "metadata": {},
   "outputs": [
    {
     "data": {
      "text/plain": [
       "<AxesSubplot:ylabel='Frequency'>"
      ]
     },
     "execution_count": 161,
     "metadata": {},
     "output_type": "execute_result"
    },
    {
     "data": {
      "image/png": "[encoded data removed]",
      "text/plain": [
       "<Figure size 432x288 with 1 Axes>"
      ]
     },
     "metadata": {
      "needs_background": "light"
     },
     "output_type": "display_data"
    }
   ],
   "source": [
    "# Plot of the sentiment polarity\n",
    "df_sent.textblob_polarity.plot.hist(bins=20, alpha=0.5)"
   ]
  },
  {
   "cell_type": "code",
   "execution_count": 249,
   "id": "e8477742",
   "metadata": {},
   "outputs": [],
   "source": [
    "# Define a function to categorize sentiment\n",
    "def textblob_cat(polarity_score):\n",
    "    if polarity_score <= (0 - 0.08/2):\n",
    "        sent = 'negative'\n",
    "    elif polarity_score >= 0.08/2:\n",
    "        sent = 'positive'\n",
    "    else:\n",
    "        sent = 'neutral'\n",
    "    return sent"
   ]
  },
  {
   "cell_type": "code",
   "execution_count": 250,
   "id": "67fe2271",
   "metadata": {},
   "outputs": [],
   "source": [
    "df_sent['textblob_cat'] = df_sent.textblob_polarity.apply(textblob_cat)"
   ]
  },
  {
   "cell_type": "code",
   "execution_count": 251,
   "id": "f2aa031f",
   "metadata": {},
   "outputs": [],
   "source": [
    "def if_match(vader, textblob):\n",
    "    if vader == textblob:\n",
    "        result = 'Match'\n",
    "    else:\n",
    "        result = 'NoMatch'\n",
    "    return result"
   ]
  },
  {
   "cell_type": "code",
   "execution_count": 252,
   "id": "883c035d",
   "metadata": {},
   "outputs": [],
   "source": [
    "df_sent['Match'] = df_sent.apply(lambda df_sent: if_match(df_sent.vader_compound, df_sent.textblob_cat), axis=1)"
   ]
  },
  {
   "cell_type": "code",
   "execution_count": 253,
   "id": "27317322",
   "metadata": {},
   "outputs": [
    {
     "data": {
      "text/html": [
       "<div>\n",
       "<style scoped>\n",
       "    .dataframe tbody tr th:only-of-type {\n",
       "        vertical-align: middle;\n",
       "    }\n",
       "\n",
       "    .dataframe tbody tr th {\n",
       "        vertical-align: top;\n",
       "    }\n",
       "\n",
       "    .dataframe thead th {\n",
       "        text-align: right;\n",
       "    }\n",
       "</style>\n",
       "<table border=\"1\" class=\"dataframe\">\n",
       "  <thead>\n",
       "    <tr style=\"text-align: right;\">\n",
       "      <th></th>\n",
       "      <th>clean_text</th>\n",
       "      <th>vader</th>\n",
       "      <th>vader_compound</th>\n",
       "      <th>textblob_polarity</th>\n",
       "      <th>textblob_subjectivity</th>\n",
       "      <th>empath</th>\n",
       "      <th>textblob_cat</th>\n",
       "      <th>Match</th>\n",
       "    </tr>\n",
       "  </thead>\n",
       "  <tbody>\n",
       "    <tr>\n",
       "      <th>0</th>\n",
       "      <td>@scottadamssays: malaria drug and zinc the mi...</td>\n",
       "      <td>{'neg': 0.196, 'neu': 0.804, 'pos': 0.0, 'comp...</td>\n",
       "      <td>negative</td>\n",
       "      <td>-0.200000</td>\n",
       "      <td>0.050000</td>\n",
       "      <td>[health, internet, messaging]</td>\n",
       "      <td>negative</td>\n",
       "      <td>Match</td>\n",
       "    </tr>\n",
       "    <tr>\n",
       "      <th>1</th>\n",
       "      <td>@youngdemstrump: in democrat cities you can g...</td>\n",
       "      <td>{'neg': 0.114, 'neu': 0.886, 'pos': 0.0, 'comp...</td>\n",
       "      <td>negative</td>\n",
       "      <td>0.000000</td>\n",
       "      <td>0.000000</td>\n",
       "      <td>[business]</td>\n",
       "      <td>neutral</td>\n",
       "      <td>NoMatch</td>\n",
       "    </tr>\n",
       "    <tr>\n",
       "      <th>2</th>\n",
       "      <td>@youngdemstrump: so sad. this poor business o...</td>\n",
       "      <td>{'neg': 0.517, 'neu': 0.483, 'pos': 0.0, 'comp...</td>\n",
       "      <td>negative</td>\n",
       "      <td>-0.341667</td>\n",
       "      <td>0.658333</td>\n",
       "      <td>[occupation, wealthy, real_estate, business, p...</td>\n",
       "      <td>negative</td>\n",
       "      <td>Match</td>\n",
       "    </tr>\n",
       "  </tbody>\n",
       "</table>\n",
       "</div>"
      ],
      "text/plain": [
       "                                          clean_text  \\\n",
       "0   @scottadamssays: malaria drug and zinc the mi...   \n",
       "1   @youngdemstrump: in democrat cities you can g...   \n",
       "2   @youngdemstrump: so sad. this poor business o...   \n",
       "\n",
       "                                               vader vader_compound  \\\n",
       "0  {'neg': 0.196, 'neu': 0.804, 'pos': 0.0, 'comp...       negative   \n",
       "1  {'neg': 0.114, 'neu': 0.886, 'pos': 0.0, 'comp...       negative   \n",
       "2  {'neg': 0.517, 'neu': 0.483, 'pos': 0.0, 'comp...       negative   \n",
       "\n",
       "   textblob_polarity  textblob_subjectivity  \\\n",
       "0          -0.200000               0.050000   \n",
       "1           0.000000               0.000000   \n",
       "2          -0.341667               0.658333   \n",
       "\n",
       "                                              empath textblob_cat    Match  \n",
       "0                      [health, internet, messaging]     negative    Match  \n",
       "1                                         [business]      neutral  NoMatch  \n",
       "2  [occupation, wealthy, real_estate, business, p...     negative    Match  "
      ]
     },
     "execution_count": 253,
     "metadata": {},
     "output_type": "execute_result"
    }
   ],
   "source": [
    "df_sent.head(3)"
   ]
  },
  {
   "cell_type": "code",
   "execution_count": 254,
   "id": "9ca07fd9",
   "metadata": {},
   "outputs": [
    {
     "name": "stdout",
     "output_type": "stream",
     "text": [
      "Percentage of match:  63.49\n"
     ]
    }
   ],
   "source": [
    "print('Percentage of match: ', round(df_sent['Match'].value_counts()[0]/df_sent.shape[0]*100, 2))"
   ]
  },
  {
   "cell_type": "markdown",
   "id": "cff79328",
   "metadata": {},
   "source": [
    "**Observation**:\n",
    "- I experimented with different thresholds, e.g., 0.1, 0.05, 0.08. 0.2. The threshold of 0.08 has the best performance.\n",
    "- Even for the best result, Only 63.49% of the sentiment polarity match between VADER and TextBlob.\n",
    "- The differences is resulted from TextBlob failing to recognize negative sentiment in some tweets. For example, the tweet \"@youngdemstrump: in democrat cities you can get arrested for opening a business but not for looting one.\" is categorized as Negative by VADER. But the TextBlob give a polarity score of 0.00, leading to a Neutral category."
   ]
  },
  {
   "cell_type": "markdown",
   "id": "0af54d7d",
   "metadata": {},
   "source": [
    "#### A mixed method of qualitative + quantitative\n",
    "- Randomly pick 25 tweets. \n",
    "- By hand, mark each of their sentiments. \n",
    "- Pick two sentiment analysis methods.\n",
    "- Compare the results of hand labeling and output of 3 methods"
   ]
  },
  {
   "cell_type": "code",
   "execution_count": 268,
   "id": "7a2fe14e",
   "metadata": {},
   "outputs": [],
   "source": [
    "# Randomly pick 25 tweets\n",
    "df_3c = df_sent.sample(n=25)\n",
    "df_3c = df_3c.reset_index() "
   ]
  },
  {
   "cell_type": "code",
   "execution_count": 270,
   "id": "70e13844",
   "metadata": {},
   "outputs": [],
   "source": [
    "# Label the sentiments by hand, created a new column called \"manual\"\n",
    "sent_hand = ['positive', 'negative','neutral','positive','neutral',\n",
    "             'positive','neutral','negative','neutral','positive',\n",
    "             'neutral','neutral','negative','neutral','negative',\n",
    "            'negative','negative','neutral','positive','negative',\n",
    "             'negative','negative', 'negative','positive', ' positive']\n",
    "df_3c['manual'] = sent_hand"
   ]
  },
  {
   "cell_type": "code",
   "execution_count": 303,
   "id": "a5ab058a",
   "metadata": {},
   "outputs": [],
   "source": [
    "# Compare among VADER, TextBlob, and Manual labels\n",
    "df_3c['Match_VADER'] = df_3c.apply(lambda df_3c: if_match(df_3c.vader_compound, df_3c.manual), axis=1)\n",
    "df_3c['Match_Textblob'] = df_3c.apply(lambda df_3c: if_match(df_3c.textblob_cat, df_3c.manual), axis=1)"
   ]
  },
  {
   "cell_type": "code",
   "execution_count": 313,
   "id": "730c5d22",
   "metadata": {
    "scrolled": false
   },
   "outputs": [
    {
     "data": {
      "text/html": [
       "<div>\n",
       "<style scoped>\n",
       "    .dataframe tbody tr th:only-of-type {\n",
       "        vertical-align: middle;\n",
       "    }\n",
       "\n",
       "    .dataframe tbody tr th {\n",
       "        vertical-align: top;\n",
       "    }\n",
       "\n",
       "    .dataframe thead th {\n",
       "        text-align: right;\n",
       "    }\n",
       "</style>\n",
       "<table border=\"1\" class=\"dataframe\">\n",
       "  <thead>\n",
       "    <tr style=\"text-align: right;\">\n",
       "      <th></th>\n",
       "      <th>index</th>\n",
       "      <th>clean_text</th>\n",
       "      <th>vader</th>\n",
       "      <th>vader_compound</th>\n",
       "      <th>textblob_polarity</th>\n",
       "      <th>textblob_subjectivity</th>\n",
       "      <th>empath</th>\n",
       "      <th>textblob_cat</th>\n",
       "      <th>Match</th>\n",
       "      <th>manual</th>\n",
       "      <th>Match_VADER</th>\n",
       "      <th>Match_Textblob</th>\n",
       "    </tr>\n",
       "  </thead>\n",
       "  <tbody>\n",
       "    <tr>\n",
       "      <th>0</th>\n",
       "      <td>10372</td>\n",
       "      <td>emmet flood who came to the white house to hel...</td>\n",
       "      <td>{'neg': 0.067, 'neu': 0.672, 'pos': 0.261, 'co...</td>\n",
       "      <td>positive</td>\n",
       "      <td>0.325000</td>\n",
       "      <td>0.43125</td>\n",
       "      <td>[help, domestic_work, occupation, crime, journ...</td>\n",
       "      <td>positive</td>\n",
       "      <td>Match</td>\n",
       "      <td>positive</td>\n",
       "      <td>Match</td>\n",
       "      <td>Match</td>\n",
       "    </tr>\n",
       "    <tr>\n",
       "      <th>1</th>\n",
       "      <td>2067</td>\n",
       "      <td>the world market for face masks and ventilator...</td>\n",
       "      <td>{'neg': 0.112, 'neu': 0.854, 'pos': 0.033, 'co...</td>\n",
       "      <td>negative</td>\n",
       "      <td>-0.161553</td>\n",
       "      <td>0.69697</td>\n",
       "      <td>[money, computer, fear, business, body, commun...</td>\n",
       "      <td>negative</td>\n",
       "      <td>Match</td>\n",
       "      <td>negative</td>\n",
       "      <td>Match</td>\n",
       "      <td>Match</td>\n",
       "    </tr>\n",
       "    <tr>\n",
       "      <th>2</th>\n",
       "      <td>3129</td>\n",
       "      <td>@repleezeldin: the more drained out the swamp...</td>\n",
       "      <td>{'neg': 0.242, 'neu': 0.758, 'pos': 0.0, 'comp...</td>\n",
       "      <td>negative</td>\n",
       "      <td>0.500000</td>\n",
       "      <td>0.50000</td>\n",
       "      <td>[water, speaking]</td>\n",
       "      <td>positive</td>\n",
       "      <td>NoMatch</td>\n",
       "      <td>neutral</td>\n",
       "      <td>NoMatch</td>\n",
       "      <td>NoMatch</td>\n",
       "    </tr>\n",
       "  </tbody>\n",
       "</table>\n",
       "</div>"
      ],
      "text/plain": [
       "   index                                         clean_text  \\\n",
       "0  10372  emmet flood who came to the white house to hel...   \n",
       "1   2067  the world market for face masks and ventilator...   \n",
       "2   3129   @repleezeldin: the more drained out the swamp...   \n",
       "\n",
       "                                               vader vader_compound  \\\n",
       "0  {'neg': 0.067, 'neu': 0.672, 'pos': 0.261, 'co...       positive   \n",
       "1  {'neg': 0.112, 'neu': 0.854, 'pos': 0.033, 'co...       negative   \n",
       "2  {'neg': 0.242, 'neu': 0.758, 'pos': 0.0, 'comp...       negative   \n",
       "\n",
       "   textblob_polarity  textblob_subjectivity  \\\n",
       "0           0.325000                0.43125   \n",
       "1          -0.161553                0.69697   \n",
       "2           0.500000                0.50000   \n",
       "\n",
       "                                              empath textblob_cat    Match  \\\n",
       "0  [help, domestic_work, occupation, crime, journ...     positive    Match   \n",
       "1  [money, computer, fear, business, body, commun...     negative    Match   \n",
       "2                                  [water, speaking]     positive  NoMatch   \n",
       "\n",
       "     manual Match_VADER Match_Textblob  \n",
       "0  positive       Match          Match  \n",
       "1  negative       Match          Match  \n",
       "2   neutral     NoMatch        NoMatch  "
      ]
     },
     "execution_count": 313,
     "metadata": {},
     "output_type": "execute_result"
    }
   ],
   "source": [
    "df_3c.head(3)"
   ]
  },
  {
   "cell_type": "code",
   "execution_count": 308,
   "id": "6bc1cfc2",
   "metadata": {},
   "outputs": [
    {
     "data": {
      "text/plain": [
       "Match      15\n",
       "NoMatch    10\n",
       "Name: Match_VADER, dtype: int64"
      ]
     },
     "execution_count": 308,
     "metadata": {},
     "output_type": "execute_result"
    }
   ],
   "source": [
    "df_3c['Match_VADER'].value_counts()"
   ]
  },
  {
   "cell_type": "code",
   "execution_count": 309,
   "id": "9609e3b1",
   "metadata": {},
   "outputs": [
    {
     "data": {
      "text/plain": [
       "Match      13\n",
       "NoMatch    12\n",
       "Name: Match_Textblob, dtype: int64"
      ]
     },
     "execution_count": 309,
     "metadata": {},
     "output_type": "execute_result"
    }
   ],
   "source": [
    "df_3c['Match_Textblob'].value_counts()"
   ]
  },
  {
   "cell_type": "markdown",
   "id": "021cc885",
   "metadata": {},
   "source": [
    "**Observation**\n",
    "- VADER matched 15 out of 25 tweets correctly.\n",
    "- Textblob matched 13 out of 25 tweets correctly.\n",
    "- VADER works better than Textblob. \n",
    "- For example, for the tweet \"@whitehouse: “we're at war with covid- we're at war with terrorists and we are at war with the drug cartels . . . we're the united s…\". This tweet is labeled as negative by hand. VADER successfully categorized it as negative, while Textblob considers this as of neutral sentiment."
   ]
  },
  {
   "cell_type": "code",
   "execution_count": 312,
   "id": "edd2d339",
   "metadata": {},
   "outputs": [
    {
     "data": {
      "text/plain": [
       "\" @whitehouse: “we're at war with covid- we're at war with terrorists and we are at war with the drug cartels . . . we're the united s…\""
      ]
     },
     "execution_count": 312,
     "metadata": {},
     "output_type": "execute_result"
    }
   ],
   "source": [
    "df_3c.loc[15]['clean_text']"
   ]
  },
  {
   "cell_type": "code",
   "execution_count": 311,
   "id": "1147454e",
   "metadata": {},
   "outputs": [
    {
     "data": {
      "text/plain": [
       "index                                                                 1863\n",
       "clean_text                @whitehouse: “we're at war with covid- we're ...\n",
       "vader                    {'neg': 0.389, 'neu': 0.542, 'pos': 0.069, 'co...\n",
       "vader_compound                                                    negative\n",
       "textblob_polarity                                                      0.0\n",
       "textblob_subjectivity                                                  0.0\n",
       "empath                           [government, death, military, fight, war]\n",
       "textblob_cat                                                       neutral\n",
       "Match                                                              NoMatch\n",
       "manual                                                            negative\n",
       "Match_VADER                                                          Match\n",
       "Match_Textblob                                                     NoMatch\n",
       "Name: 15, dtype: object"
      ]
     },
     "execution_count": 311,
     "metadata": {},
     "output_type": "execute_result"
    }
   ],
   "source": [
    "df_3c.loc[15]"
   ]
  },
  {
   "cell_type": "markdown",
   "id": "f69982df",
   "metadata": {},
   "source": [
    "###  Analyze Data with LIWC"
   ]
  },
  {
   "cell_type": "markdown",
   "id": "c2ddd6f0",
   "metadata": {},
   "source": [
    "#### 0. Preparation, functions"
   ]
  },
  {
   "cell_type": "code",
   "execution_count": 56,
   "id": "4aa15e2c",
   "metadata": {},
   "outputs": [],
   "source": [
    "import math\n",
    "from numpy import nan"
   ]
  },
  {
   "cell_type": "code",
   "execution_count": 57,
   "id": "244c3736",
   "metadata": {},
   "outputs": [],
   "source": [
    "# load the LIWC dictionary\n",
    "liwc = pd.read_csv('LIWC2015 dictionary poster.xlsx - 2015-08-24-LIWC2015 - Poster.csv',skiprows=1)"
   ]
  },
  {
   "cell_type": "code",
   "execution_count": 59,
   "id": "b6a700d7",
   "metadata": {},
   "outputs": [],
   "source": [
    "# Treat the entire data set as a corpus\n",
    "# Combine all unigrams into a list\n",
    "df_q4 = df_sent.copy()\n",
    "tweets_list = df_q4.clean_text.tolist()\n",
    "# Put all tweets text into a string\n",
    "tweets_string = '-'.join([str(n) for n in tweets_list])"
   ]
  },
  {
   "cell_type": "code",
   "execution_count": 60,
   "id": "cdbdea87",
   "metadata": {},
   "outputs": [],
   "source": [
    "# clean\n",
    "tweets_clean = text_clean(tweets_string)\n",
    "# remove puncutations\n",
    "tweets_clean = re.sub(r\"[^\\w\\s]\", '',tweets_clean) #remove puntucation"
   ]
  },
  {
   "cell_type": "code",
   "execution_count": 61,
   "id": "f80c9286",
   "metadata": {},
   "outputs": [
    {
     "data": {
      "text/plain": [
       "['scottadamssays', 'malaria', 'drug', 'and', 'zinc']"
      ]
     },
     "execution_count": 61,
     "metadata": {},
     "output_type": "execute_result"
    }
   ],
   "source": [
    "# Tokenize the tweets_string using the Twitter tokenizer\n",
    "tk = TweetTokenizer()\n",
    "tweet_tokenized = tk.tokenize(tweets_clean)\n",
    "tweet_tokenized[0:5]"
   ]
  },
  {
   "cell_type": "markdown",
   "id": "ca7f6100",
   "metadata": {},
   "source": [
    "tweet_tokenized contains all the tokenized words of the entire tweet data set"
   ]
  },
  {
   "cell_type": "code",
   "execution_count": 113,
   "id": "5856943e",
   "metadata": {},
   "outputs": [],
   "source": [
    "def replace_star(list):\n",
    "    for i in range(len(list)):\n",
    "        list[i] = list[i].replace('*','.')\n",
    "    return list"
   ]
  },
  {
   "cell_type": "code",
   "execution_count": 114,
   "id": "285eb387",
   "metadata": {},
   "outputs": [],
   "source": [
    "def replace_quote(list):\n",
    "    for i in range(len(list)):\n",
    "        list[i] = list[i].replace(\"'\",'')\n",
    "    return list"
   ]
  },
  {
   "cell_type": "code",
   "execution_count": 115,
   "id": "eab3f2e1",
   "metadata": {},
   "outputs": [],
   "source": [
    "# Define a function to calculate the proportion of the selected dimension of the entire tweet data set\n",
    "def cal_pro(list):\n",
    "    k = 0\n",
    "    for i in range(len(list)):\n",
    "        for unigram in tweet_tokenized:\n",
    "            result = re.match(list[i], unigram)\n",
    "            if result:\n",
    "                k = k + 1\n",
    "            else:\n",
    "                continue\n",
    "    pro = round(k/len(tweet_tokenized)*100, 2)\n",
    "    return pro"
   ]
  },
  {
   "cell_type": "markdown",
   "id": "b146cc98",
   "metadata": {},
   "source": [
    "#### 1. Comparison between Friend dimension and Family dimension\n",
    "- Look into the Friend dimension and Family dimension.\n",
    "- Which dimension is mentioned more frequently in the entire tweet data set."
   ]
  },
  {
   "cell_type": "markdown",
   "id": "a8214d3c",
   "metadata": {},
   "source": [
    "#### Friend"
   ]
  },
  {
   "cell_type": "code",
   "execution_count": 123,
   "id": "1a38657d",
   "metadata": {},
   "outputs": [
    {
     "data": {
      "text/plain": [
       "['accomplice*', 'acquainta*', 'ally', 'amigo*', 'babe*']"
      ]
     },
     "execution_count": 123,
     "metadata": {},
     "output_type": "execute_result"
    }
   ],
   "source": [
    "# Friend\n",
    "list_friend = liwc.iloc[:,66].tolist()\n",
    "list_friend = [item for item in list_friend if not(pd.isnull(item)) == True]\n",
    "list_friend[0:5]"
   ]
  },
  {
   "cell_type": "code",
   "execution_count": 124,
   "id": "2ce53df2",
   "metadata": {},
   "outputs": [
    {
     "data": {
      "text/plain": [
       "['accomplice.', 'acquainta.', 'ally', 'amigo.', 'babe.']"
      ]
     },
     "execution_count": 124,
     "metadata": {},
     "output_type": "execute_result"
    }
   ],
   "source": [
    "list_friend = replace_star(list_friend)\n",
    "list_friend = replace_quote(list_friend)\n",
    "list_friend[0:5]"
   ]
  },
  {
   "cell_type": "code",
   "execution_count": 125,
   "id": "a96bd723",
   "metadata": {},
   "outputs": [
    {
     "data": {
      "text/plain": [
       "0.23"
      ]
     },
     "execution_count": 125,
     "metadata": {},
     "output_type": "execute_result"
    }
   ],
   "source": [
    "# Calculate the proportion of Friend in the data set\n",
    "cal_pro(list_friend)"
   ]
  },
  {
   "cell_type": "markdown",
   "id": "26082a85",
   "metadata": {},
   "source": [
    "#### Family"
   ]
  },
  {
   "cell_type": "code",
   "execution_count": 128,
   "id": "b3a1470c",
   "metadata": {},
   "outputs": [
    {
     "data": {
      "text/plain": [
       "['aunt*', 'babies', 'baby', 'bro', \"bro'*\"]"
      ]
     },
     "execution_count": 128,
     "metadata": {},
     "output_type": "execute_result"
    }
   ],
   "source": [
    "# Famliy\n",
    "list_family = liwc.iloc[:,65].tolist()\n",
    "list_family = [item for item in list_family if not(pd.isnull(item)) == True]\n",
    "list_family[0:5]"
   ]
  },
  {
   "cell_type": "code",
   "execution_count": 129,
   "id": "3165dbbe",
   "metadata": {},
   "outputs": [
    {
     "data": {
      "text/plain": [
       "['aunt.', 'babies', 'baby', 'bro', 'bro.']"
      ]
     },
     "execution_count": 129,
     "metadata": {},
     "output_type": "execute_result"
    }
   ],
   "source": [
    "list_family = replace_star(list_family)\n",
    "list_family = replace_quote(list_family)\n",
    "list_family[0:5]"
   ]
  },
  {
   "cell_type": "code",
   "execution_count": 130,
   "id": "f451a1f4",
   "metadata": {},
   "outputs": [
    {
     "data": {
      "text/plain": [
       "2.2"
      ]
     },
     "execution_count": 130,
     "metadata": {},
     "output_type": "execute_result"
    }
   ],
   "source": [
    "# Calculate the proportion of Family in the data set\n",
    "cal_pro(list_family)"
   ]
  },
  {
   "cell_type": "markdown",
   "id": "c2b557c7",
   "metadata": {},
   "source": [
    "**Observation:**\\\n",
    "In Trump's tweets, the \"Friend\" dimension accounts for 0.23% of the total corpus. And the \"Family\" dimension accounts for 2.2% of the total corpus.\\\n",
    "The proportion of \"Family\" is nearly 10 times of the proportion of \"Friend\". This may indicate that Trump's tweets are more targeted at people's feeling toward family members, intead of frineds. But this need more in-depth analysis before getting the conclusion."
   ]
  },
  {
   "cell_type": "markdown",
   "id": "f26b3bd3",
   "metadata": {},
   "source": [
    "#### 2. Comparison between Female dimension and Male dimension\n",
    "- Look into the Female dimension and Male dimension.\n",
    "- Which dimension is mentioned more frequently in the entire tweet data set."
   ]
  },
  {
   "cell_type": "code",
   "execution_count": 99,
   "id": "af290f69",
   "metadata": {},
   "outputs": [
    {
     "data": {
      "text/plain": [
       "['aunt*', 'bachelorette', 'bride*', 'chick', \"chick'*\"]"
      ]
     },
     "execution_count": 99,
     "metadata": {},
     "output_type": "execute_result"
    }
   ],
   "source": [
    "# Female\n",
    "list_female = liwc.iloc[:,67].tolist()\n",
    "list_female = [item for item in list_female if not(pd.isnull(item)) == True]\n",
    "list_female[0:5]"
   ]
  },
  {
   "cell_type": "code",
   "execution_count": 100,
   "id": "28414c87",
   "metadata": {},
   "outputs": [
    {
     "data": {
      "text/plain": [
       "['aunt.', 'bachelorette', 'bride.', 'chick', 'chick.']"
      ]
     },
     "execution_count": 100,
     "metadata": {},
     "output_type": "execute_result"
    }
   ],
   "source": [
    "list_female = replace_star(list_female)\n",
    "list_female = replace_quote(list_female)\n",
    "list_female[0:5]"
   ]
  },
  {
   "cell_type": "code",
   "execution_count": 101,
   "id": "ba6fd58b",
   "metadata": {},
   "outputs": [
    {
     "data": {
      "text/plain": [
       "1.57"
      ]
     },
     "execution_count": 101,
     "metadata": {},
     "output_type": "execute_result"
    }
   ],
   "source": [
    "# Calculate the proportion of Female in the data set\n",
    "cal_pro(list_female)"
   ]
  },
  {
   "cell_type": "code",
   "execution_count": 102,
   "id": "66c4a00a",
   "metadata": {},
   "outputs": [],
   "source": [
    "# Male\n",
    "list_male = liwc.iloc[:,68].tolist()\n",
    "list_male = [item for item in list_male if not(pd.isnull(item)) == True]"
   ]
  },
  {
   "cell_type": "code",
   "execution_count": 103,
   "id": "6a6eefb3",
   "metadata": {},
   "outputs": [],
   "source": [
    "list_male = replace_star(list_male)\n",
    "list_male = replace_quote(list_male)"
   ]
  },
  {
   "cell_type": "code",
   "execution_count": 104,
   "id": "a87d9380",
   "metadata": {},
   "outputs": [
    {
     "data": {
      "text/plain": [
       "2.96"
      ]
     },
     "execution_count": 104,
     "metadata": {},
     "output_type": "execute_result"
    }
   ],
   "source": [
    "# Calculate the proportion of Female in the data set\n",
    "cal_pro(list_male)"
   ]
  },
  {
   "cell_type": "markdown",
   "id": "bbebb234",
   "metadata": {},
   "source": [
    "**Observation:**\\\n",
    "In Trump's tweets, the \"Female\" dimension accounts for 1.57% of the total corpus. And the \"Male\" dimension accounts for 2.96% of the total corpus, nearly twice of the proporition of the \"Female\" dimension.\n",
    "\n",
    "This result indicates that the possibility that Trump's tweets are more targted to male than female. "
   ]
  },
  {
   "cell_type": "markdown",
   "id": "fa7e8939",
   "metadata": {},
   "source": [
    "#### 3. The \"Achieve\" Dimension"
   ]
  },
  {
   "cell_type": "code",
   "execution_count": 131,
   "id": "a5118622",
   "metadata": {},
   "outputs": [
    {
     "data": {
      "text/plain": [
       "213"
      ]
     },
     "execution_count": 131,
     "metadata": {},
     "output_type": "execute_result"
    }
   ],
   "source": [
    "# Get the words in the \"Achieve\" dimension into a list of strings\n",
    "list_achieve1 = liwc.iloc[:,111].tolist()\n",
    "list_achieve2 = liwc.iloc[:,112].tolist()\n",
    "list_achieve = [*list_achieve1, *list_achieve2]\n",
    "list_achieve = [item for item in list_achieve if not(pd.isnull(item)) == True]\n",
    "len(list_achieve)"
   ]
  },
  {
   "cell_type": "code",
   "execution_count": 132,
   "id": "32bb043f",
   "metadata": {},
   "outputs": [
    {
     "data": {
      "text/plain": [
       "['abilit*', 'able', 'accomplish*', 'ace', 'achievable']"
      ]
     },
     "execution_count": 132,
     "metadata": {},
     "output_type": "execute_result"
    }
   ],
   "source": [
    "list_achieve[0:5]"
   ]
  },
  {
   "cell_type": "code",
   "execution_count": 133,
   "id": "5b86e978",
   "metadata": {},
   "outputs": [
    {
     "data": {
      "text/plain": [
       "['abilit.', 'able', 'accomplish.', 'ace', 'achievable']"
      ]
     },
     "execution_count": 133,
     "metadata": {},
     "output_type": "execute_result"
    }
   ],
   "source": [
    "list_achieve = replace_star(list_achieve)\n",
    "list_achieve = replace_quote(list_achieve)\n",
    "list_achieve[0:5]"
   ]
  },
  {
   "cell_type": "code",
   "execution_count": 134,
   "id": "de1e88a5",
   "metadata": {},
   "outputs": [
    {
     "data": {
      "text/plain": [
       "2.35"
      ]
     },
     "execution_count": 134,
     "metadata": {},
     "output_type": "execute_result"
    }
   ],
   "source": [
    "# Calculate the proportion of \"Achieve\" in the data set\n",
    "cal_pro(list_achieve)"
   ]
  },
  {
   "cell_type": "markdown",
   "id": "529a5d36",
   "metadata": {},
   "source": [
    "**Observation:**\n",
    "\n",
    "The \"Achieve\" dimension accounts for 2.35% of the entire data set. The proportion is much higher than 'Friend\", and similar to \"Male\" and \"Family\" dimensions."
   ]
  },
  {
   "cell_type": "markdown",
   "id": "44951283",
   "metadata": {},
   "source": [
    "### Analyze Data over time"
   ]
  },
  {
   "cell_type": "code",
   "execution_count": 41,
   "id": "43a2bd9b",
   "metadata": {},
   "outputs": [],
   "source": [
    "df_q5 = pd.DataFrame([data.created_at,data.text]).transpose()"
   ]
  },
  {
   "cell_type": "code",
   "execution_count": 42,
   "id": "f2c5271f",
   "metadata": {},
   "outputs": [],
   "source": [
    "# Clean the textual data\n",
    "df_q5['clean_text'] = df_q5.text.apply(text_clean)"
   ]
  },
  {
   "cell_type": "code",
   "execution_count": 45,
   "id": "45893a68",
   "metadata": {},
   "outputs": [],
   "source": [
    "def get_vadercom(text):\n",
    "    score = analyzer.polarity_scores(text)\n",
    "    com = score['compound']\n",
    "    return com"
   ]
  },
  {
   "cell_type": "code",
   "execution_count": 49,
   "id": "301acab6",
   "metadata": {},
   "outputs": [],
   "source": [
    "df_q5['vader_com'] = df_q5.clean_text.apply(get_vadercom)\n",
    "df_q5['textblob_polarity'] = df_q5['clean_text'].apply(lambda tweet: TextBlob(tweet).sentiment[0])"
   ]
  },
  {
   "cell_type": "code",
   "execution_count": 90,
   "id": "946733c2",
   "metadata": {},
   "outputs": [
    {
     "data": {
      "text/html": [
       "<div>\n",
       "<style scoped>\n",
       "    .dataframe tbody tr th:only-of-type {\n",
       "        vertical-align: middle;\n",
       "    }\n",
       "\n",
       "    .dataframe tbody tr th {\n",
       "        vertical-align: top;\n",
       "    }\n",
       "\n",
       "    .dataframe thead th {\n",
       "        text-align: right;\n",
       "    }\n",
       "</style>\n",
       "<table border=\"1\" class=\"dataframe\">\n",
       "  <thead>\n",
       "    <tr style=\"text-align: right;\">\n",
       "      <th></th>\n",
       "      <th>created_at</th>\n",
       "      <th>text</th>\n",
       "      <th>clean_text</th>\n",
       "      <th>vader_com</th>\n",
       "      <th>textblob_polarity</th>\n",
       "      <th>week0</th>\n",
       "      <th>date</th>\n",
       "      <th>week</th>\n",
       "    </tr>\n",
       "  </thead>\n",
       "  <tbody>\n",
       "    <tr>\n",
       "      <th>0</th>\n",
       "      <td>05-30-2020 03:26:31</td>\n",
       "      <td>RT @ScottAdamsSays: Malaria drug and zinc the ...</td>\n",
       "      <td>@scottadamssays: malaria drug and zinc the mi...</td>\n",
       "      <td>-0.296</td>\n",
       "      <td>-0.2</td>\n",
       "      <td>2017-01-20</td>\n",
       "      <td>2020-05-30</td>\n",
       "      <td>175</td>\n",
       "    </tr>\n",
       "  </tbody>\n",
       "</table>\n",
       "</div>"
      ],
      "text/plain": [
       "            created_at                                               text  \\\n",
       "0  05-30-2020 03:26:31  RT @ScottAdamsSays: Malaria drug and zinc the ...   \n",
       "\n",
       "                                          clean_text  vader_com  \\\n",
       "0   @scottadamssays: malaria drug and zinc the mi...     -0.296   \n",
       "\n",
       "   textblob_polarity      week0       date  week  \n",
       "0               -0.2 2017-01-20 2020-05-30   175  "
      ]
     },
     "execution_count": 90,
     "metadata": {},
     "output_type": "execute_result"
    }
   ],
   "source": [
    "df_q5.head(1)"
   ]
  },
  {
   "cell_type": "code",
   "execution_count": 89,
   "id": "e9a7026e",
   "metadata": {},
   "outputs": [
    {
     "data": {
      "text/html": [
       "<div>\n",
       "<style scoped>\n",
       "    .dataframe tbody tr th:only-of-type {\n",
       "        vertical-align: middle;\n",
       "    }\n",
       "\n",
       "    .dataframe tbody tr th {\n",
       "        vertical-align: top;\n",
       "    }\n",
       "\n",
       "    .dataframe thead th {\n",
       "        text-align: right;\n",
       "    }\n",
       "</style>\n",
       "<table border=\"1\" class=\"dataframe\">\n",
       "  <thead>\n",
       "    <tr style=\"text-align: right;\">\n",
       "      <th></th>\n",
       "      <th>created_at</th>\n",
       "      <th>text</th>\n",
       "      <th>clean_text</th>\n",
       "      <th>vader_com</th>\n",
       "      <th>textblob_polarity</th>\n",
       "      <th>week0</th>\n",
       "      <th>date</th>\n",
       "      <th>week</th>\n",
       "    </tr>\n",
       "  </thead>\n",
       "  <tbody>\n",
       "    <tr>\n",
       "      <th>18466</th>\n",
       "      <td>01-20-2017 12:31:53</td>\n",
       "      <td>It all begins today! I will see you at 11:00 A...</td>\n",
       "      <td>it all begins today! i will see you at : a.m. ...</td>\n",
       "      <td>0.0</td>\n",
       "      <td>0.0</td>\n",
       "      <td>2017-01-20</td>\n",
       "      <td>2017-01-20</td>\n",
       "      <td>0</td>\n",
       "    </tr>\n",
       "  </tbody>\n",
       "</table>\n",
       "</div>"
      ],
      "text/plain": [
       "                created_at                                               text  \\\n",
       "18466  01-20-2017 12:31:53  It all begins today! I will see you at 11:00 A...   \n",
       "\n",
       "                                              clean_text  vader_com  \\\n",
       "18466  it all begins today! i will see you at : a.m. ...        0.0   \n",
       "\n",
       "       textblob_polarity      week0       date  week  \n",
       "18466                0.0 2017-01-20 2017-01-20     0  "
      ]
     },
     "execution_count": 89,
     "metadata": {},
     "output_type": "execute_result"
    }
   ],
   "source": [
    "df_q5.tail(1)"
   ]
  },
  {
   "cell_type": "code",
   "execution_count": 78,
   "id": "1de8448d",
   "metadata": {},
   "outputs": [],
   "source": [
    "# Collapse the dataframe into week\n",
    "df_q5['week0'] = '2017-01-20'\n",
    "df_q5['week0'] = pd.to_datetime(df_q5['week0'])\n",
    "df_q5['date'] = pd.to_datetime(df_q5['created_at']).dt.date\n",
    "df_q5['date'] = pd.to_datetime(df_q5['date'])\n",
    "df_q5['week'] = (df_q5['date'] - df_q5['week0'])//7\n",
    "df_q5['week'] = df_q5['week'].dt.days"
   ]
  },
  {
   "cell_type": "code",
   "execution_count": 103,
   "id": "5c40766f",
   "metadata": {},
   "outputs": [],
   "source": [
    "# Calculate the mean of vader_compound and textblob_polarity by week\n",
    "df_q5_group = df_q5.groupby(\"week\")\n",
    "df_q5_mean = df_q5_group.mean()\n",
    "df_q5_mean.reset_index(inplace=True)"
   ]
  },
  {
   "cell_type": "code",
   "execution_count": 127,
   "id": "f93d2db3",
   "metadata": {
    "scrolled": true
   },
   "outputs": [
    {
     "data": {
      "text/html": [
       "<div>\n",
       "<style scoped>\n",
       "    .dataframe tbody tr th:only-of-type {\n",
       "        vertical-align: middle;\n",
       "    }\n",
       "\n",
       "    .dataframe tbody tr th {\n",
       "        vertical-align: top;\n",
       "    }\n",
       "\n",
       "    .dataframe thead th {\n",
       "        text-align: right;\n",
       "    }\n",
       "</style>\n",
       "<table border=\"1\" class=\"dataframe\">\n",
       "  <thead>\n",
       "    <tr style=\"text-align: right;\">\n",
       "      <th></th>\n",
       "      <th>week</th>\n",
       "      <th>vader_com</th>\n",
       "      <th>textblob_polarity</th>\n",
       "    </tr>\n",
       "  </thead>\n",
       "  <tbody>\n",
       "    <tr>\n",
       "      <th>0</th>\n",
       "      <td>0</td>\n",
       "      <td>0.163198</td>\n",
       "      <td>0.105571</td>\n",
       "    </tr>\n",
       "    <tr>\n",
       "      <th>1</th>\n",
       "      <td>1</td>\n",
       "      <td>-0.036151</td>\n",
       "      <td>0.006501</td>\n",
       "    </tr>\n",
       "    <tr>\n",
       "      <th>2</th>\n",
       "      <td>2</td>\n",
       "      <td>-0.064510</td>\n",
       "      <td>0.042114</td>\n",
       "    </tr>\n",
       "  </tbody>\n",
       "</table>\n",
       "</div>"
      ],
      "text/plain": [
       "   week  vader_com  textblob_polarity\n",
       "0     0   0.163198           0.105571\n",
       "1     1  -0.036151           0.006501\n",
       "2     2  -0.064510           0.042114"
      ]
     },
     "execution_count": 127,
     "metadata": {},
     "output_type": "execute_result"
    }
   ],
   "source": [
    "# Inspect the output\n",
    "df_q5_mean.head(3)"
   ]
  },
  {
   "cell_type": "code",
   "execution_count": 133,
   "id": "53ce0708",
   "metadata": {},
   "outputs": [
    {
     "data": {
      "image/png": "[encoded data removed]",
      "text/plain": [
       "<Figure size 1152x432 with 1 Axes>"
      ]
     },
     "metadata": {
      "needs_background": "light"
     },
     "output_type": "display_data"
    }
   ],
   "source": [
    "# Visualization\n",
    "import matplotlib.pyplot as plt\n",
    "plt.rcParams[\"figure.figsize\"] = (16,6)\n",
    "plt.plot(df_q5_mean['week'], df_q5_mean['vader_com'], 'c',label = 'Vader Compound Score')\n",
    "plt.plot(df_q5_mean['week'], df_q5_mean['textblob_polarity'], 'r', label = 'Textblob Polarity Score')\n",
    "plt.xlabel('Week Number', fontsize=16)\n",
    "plt.ylabel('Sentiment Polarity', fontsize=16)\n",
    "plt.title('Sentiment Polarity Scores by Week', fontsize = 20)\n",
    "plt.legend()\n",
    "plt.show()"
   ]
  },
  {
   "cell_type": "markdown",
   "id": "ef3d77a2",
   "metadata": {},
   "source": [
    "- The x-axis in the plot refers to the week number starting from 2017-01-20.\n",
    "- In the plot above, the blue line represnets the Vader sentiment score, and the red line represents the Textblob sentiment score.\n",
    "- For both VADER and Textblob, the higher sentiment score represent a more positive attitude, while lower sentiment scores represent a more negative attitude."
   ]
  },
  {
   "cell_type": "markdown",
   "id": "225fa8c9",
   "metadata": {},
   "source": [
    "**Observation**\n",
    "- There is obvious synchronization between the ups and downs of the blue and red lines. This means that the VADER sentiment is overall in aligned with the Textblob sentiment. \n",
    "- The sentiment polarity flucutates quite intensively in the first two and half years (125 weeks), roughly from 2017 Jan to 2019 July.\n",
    "- Over time, the intensity and level of fluctuations of sentiment polarity decreased. There are less dramatic ups and downs from week 125 to week 175, roughly from 2019 July to 2020 May."
   ]
  },
  {
   "cell_type": "markdown",
   "id": "61427fbd",
   "metadata": {},
   "source": [
    "**Inferences**\n",
    "\n",
    "- There are less flucutations Trump's tweets in terms of the sentiment polarity. The message conveyed in the tweets become mild since 2019 July.\n",
    "\n",
    "\n",
    "- Several things happened around 2019 July:\\\n",
    "(a) Trump officially launches his 2020 reelection campaign.\\\n",
    "(b) Trump call to Ukraine president about investigation of Joe Biden and his son Hunter.\\\n",
    "(c) Trump met with Kim Jong-un, the Supreme Leader of North Korea.\n",
    "\n",
    "    Reference\n",
    "https://millercenter.org/president/trump/key-events\n",
    "\n",
    "\n",
    "- These events may be correlated to the trend towards a milder tweeting style of Trump.\n"
   ]
  },
  {
   "cell_type": "code",
   "execution_count": 29,
   "id": "7b503926",
   "metadata": {},
   "outputs": [],
   "source": [
    "# Save the dataframe to an excel file\n",
    "df_bonus_text.to_excel('df_bonus_text.xlsx', index = True)"
   ]
  },
  {
   "cell_type": "markdown",
   "id": "ef8ae2f5",
   "metadata": {},
   "source": [
    "### ii). Clean the collected data and conduct sentiment analysis to show polarity of each of these 10 scraped data points."
   ]
  },
  {
   "cell_type": "markdown",
   "id": "4a734e3f",
   "metadata": {},
   "source": [
    "The sentiment analysis package for simplified Chinese\\\n",
    "https://towardsdatascience.com/beginners-guide-to-sentiment-analysis-for-simplified-chinese-using-snownlp-ce88a8407efb"
   ]
  },
  {
   "cell_type": "code",
   "execution_count": 32,
   "id": "71777be2",
   "metadata": {},
   "outputs": [],
   "source": [
    "# pip install snownlp\n",
    "# import the package\n",
    "from snownlp import SnowNLP"
   ]
  },
  {
   "cell_type": "markdown",
   "id": "9e24ce94",
   "metadata": {},
   "source": [
    "### Clean data"
   ]
  },
  {
   "cell_type": "code",
   "execution_count": 63,
   "id": "b3a06887",
   "metadata": {},
   "outputs": [],
   "source": [
    "def text_clean_chi(text):\n",
    "    text = re.sub(r'http\\S+', '', text) # remove url\n",
    "    text = re.sub(r\"[^\\w\\s]\", '',text) #remove puntucation\n",
    "    text = re.sub(r\"\\s+\", ' ',text) #remove multiple space\n",
    "    text = re.sub(r\"[0-9]\", '',text) #remove numbers\n",
    "    return text"
   ]
  },
  {
   "cell_type": "code",
   "execution_count": 60,
   "id": "af3239f6",
   "metadata": {},
   "outputs": [],
   "source": [
    "df_bonus_text['clean'] = df_bonus_text['comment'].apply(text_clean_chi)"
   ]
  },
  {
   "cell_type": "code",
   "execution_count": 62,
   "id": "9567f025",
   "metadata": {},
   "outputs": [
    {
     "data": {
      "text/html": [
       "<div>\n",
       "<style scoped>\n",
       "    .dataframe tbody tr th:only-of-type {\n",
       "        vertical-align: middle;\n",
       "    }\n",
       "\n",
       "    .dataframe tbody tr th {\n",
       "        vertical-align: top;\n",
       "    }\n",
       "\n",
       "    .dataframe thead th {\n",
       "        text-align: right;\n",
       "    }\n",
       "</style>\n",
       "<table border=\"1\" class=\"dataframe\">\n",
       "  <thead>\n",
       "    <tr style=\"text-align: right;\">\n",
       "      <th></th>\n",
       "      <th>comment</th>\n",
       "      <th>clean</th>\n",
       "    </tr>\n",
       "  </thead>\n",
       "  <tbody>\n",
       "    <tr>\n",
       "      <th>0</th>\n",
       "      <td>作为整张专辑的企划我只想说很感动，我们在有限的时间有限的金钱里做到了无限。因为爱；因为勇敢；...</td>\n",
       "      <td>作为整张专辑的企划我只想说很感动我们在有限的时间有限的金钱里做到了无限因为爱因为勇敢因为沟通...</td>\n",
       "    </tr>\n",
       "    <tr>\n",
       "      <th>1</th>\n",
       "      <td>超出预期每一首都好听尤其是OfCourse发音真的好</td>\n",
       "      <td>超出预期每一首都好听尤其是OfCourse发音真的好</td>\n",
       "    </tr>\n",
       "    <tr>\n",
       "      <th>2</th>\n",
       "      <td>加油呀小刘</td>\n",
       "      <td>加油呀小刘</td>\n",
       "    </tr>\n",
       "    <tr>\n",
       "      <th>3</th>\n",
       "      <td>OfCourse慵懒性感，英语发音好苏。\\nU&amp;I温暖大气，越听越开心，鼓舞人心\\n练习曲，...</td>\n",
       "      <td>OfCourse慵懒性感英语发音好苏 UI温暖大气越听越开心鼓舞人心 练习曲安静又有点辛酸仿...</td>\n",
       "    </tr>\n",
       "    <tr>\n",
       "      <th>4</th>\n",
       "      <td>这张专辑让我路转粉转死忠🥰，真的很好听，听完也很有感悟，零点发的，听完哭了整整一夜😢😢刘雨昕...</td>\n",
       "      <td>这张专辑让我路转粉转死忠真的很好听听完也很有感悟零点发的听完哭了整整一夜刘雨昕未来可期加油</td>\n",
       "    </tr>\n",
       "  </tbody>\n",
       "</table>\n",
       "</div>"
      ],
      "text/plain": [
       "                                             comment  \\\n",
       "0  作为整张专辑的企划我只想说很感动，我们在有限的时间有限的金钱里做到了无限。因为爱；因为勇敢；...   \n",
       "1                         超出预期每一首都好听尤其是OfCourse发音真的好   \n",
       "2                                              加油呀小刘   \n",
       "3  OfCourse慵懒性感，英语发音好苏。\\nU&I温暖大气，越听越开心，鼓舞人心\\n练习曲，...   \n",
       "4  这张专辑让我路转粉转死忠🥰，真的很好听，听完也很有感悟，零点发的，听完哭了整整一夜😢😢刘雨昕...   \n",
       "\n",
       "                                               clean  \n",
       "0  作为整张专辑的企划我只想说很感动我们在有限的时间有限的金钱里做到了无限因为爱因为勇敢因为沟通...  \n",
       "1                         超出预期每一首都好听尤其是OfCourse发音真的好  \n",
       "2                                              加油呀小刘  \n",
       "3  OfCourse慵懒性感英语发音好苏 UI温暖大气越听越开心鼓舞人心 练习曲安静又有点辛酸仿...  \n",
       "4     这张专辑让我路转粉转死忠真的很好听听完也很有感悟零点发的听完哭了整整一夜刘雨昕未来可期加油   "
      ]
     },
     "execution_count": 62,
     "metadata": {},
     "output_type": "execute_result"
    }
   ],
   "source": [
    "df_bonus_text.head(5)"
   ]
  },
  {
   "cell_type": "markdown",
   "id": "981e198a",
   "metadata": {},
   "source": [
    "### Sentiment analysis"
   ]
  },
  {
   "cell_type": "code",
   "execution_count": 49,
   "id": "8c63dee7",
   "metadata": {},
   "outputs": [],
   "source": [
    "# Define a function to get the sentiment polarity score\n",
    "def get_sent(text):\n",
    "    t = SnowNLP(text)\n",
    "    sent = t.sentiments\n",
    "    return sent"
   ]
  },
  {
   "cell_type": "code",
   "execution_count": 64,
   "id": "dc6b5083",
   "metadata": {},
   "outputs": [],
   "source": [
    "# Create a new column to store the sentiment score\n",
    "df_bonus_text['sentiment'] = df_bonus_text['comment'].apply(get_sent)"
   ]
  },
  {
   "cell_type": "code",
   "execution_count": 65,
   "id": "52d757cb",
   "metadata": {
    "scrolled": true
   },
   "outputs": [
    {
     "data": {
      "text/html": [
       "<div>\n",
       "<style scoped>\n",
       "    .dataframe tbody tr th:only-of-type {\n",
       "        vertical-align: middle;\n",
       "    }\n",
       "\n",
       "    .dataframe tbody tr th {\n",
       "        vertical-align: top;\n",
       "    }\n",
       "\n",
       "    .dataframe thead th {\n",
       "        text-align: right;\n",
       "    }\n",
       "</style>\n",
       "<table border=\"1\" class=\"dataframe\">\n",
       "  <thead>\n",
       "    <tr style=\"text-align: right;\">\n",
       "      <th></th>\n",
       "      <th>comment</th>\n",
       "      <th>clean</th>\n",
       "      <th>sentiment</th>\n",
       "    </tr>\n",
       "  </thead>\n",
       "  <tbody>\n",
       "    <tr>\n",
       "      <th>0</th>\n",
       "      <td>作为整张专辑的企划我只想说很感动，我们在有限的时间有限的金钱里做到了无限。因为爱；因为勇敢；...</td>\n",
       "      <td>作为整张专辑的企划我只想说很感动我们在有限的时间有限的金钱里做到了无限因为爱因为勇敢因为沟通...</td>\n",
       "      <td>0.999986</td>\n",
       "    </tr>\n",
       "    <tr>\n",
       "      <th>1</th>\n",
       "      <td>超出预期每一首都好听尤其是OfCourse发音真的好</td>\n",
       "      <td>超出预期每一首都好听尤其是OfCourse发音真的好</td>\n",
       "      <td>0.314052</td>\n",
       "    </tr>\n",
       "    <tr>\n",
       "      <th>2</th>\n",
       "      <td>加油呀小刘</td>\n",
       "      <td>加油呀小刘</td>\n",
       "      <td>0.975966</td>\n",
       "    </tr>\n",
       "    <tr>\n",
       "      <th>3</th>\n",
       "      <td>OfCourse慵懒性感，英语发音好苏。\\nU&amp;I温暖大气，越听越开心，鼓舞人心\\n练习曲，...</td>\n",
       "      <td>OfCourse慵懒性感英语发音好苏 UI温暖大气越听越开心鼓舞人心 练习曲安静又有点辛酸仿...</td>\n",
       "      <td>1.000000</td>\n",
       "    </tr>\n",
       "    <tr>\n",
       "      <th>4</th>\n",
       "      <td>这张专辑让我路转粉转死忠🥰，真的很好听，听完也很有感悟，零点发的，听完哭了整整一夜😢😢刘雨昕...</td>\n",
       "      <td>这张专辑让我路转粉转死忠真的很好听听完也很有感悟零点发的听完哭了整整一夜刘雨昕未来可期加油</td>\n",
       "      <td>0.998987</td>\n",
       "    </tr>\n",
       "  </tbody>\n",
       "</table>\n",
       "</div>"
      ],
      "text/plain": [
       "                                             comment  \\\n",
       "0  作为整张专辑的企划我只想说很感动，我们在有限的时间有限的金钱里做到了无限。因为爱；因为勇敢；...   \n",
       "1                         超出预期每一首都好听尤其是OfCourse发音真的好   \n",
       "2                                              加油呀小刘   \n",
       "3  OfCourse慵懒性感，英语发音好苏。\\nU&I温暖大气，越听越开心，鼓舞人心\\n练习曲，...   \n",
       "4  这张专辑让我路转粉转死忠🥰，真的很好听，听完也很有感悟，零点发的，听完哭了整整一夜😢😢刘雨昕...   \n",
       "\n",
       "                                               clean  sentiment  \n",
       "0  作为整张专辑的企划我只想说很感动我们在有限的时间有限的金钱里做到了无限因为爱因为勇敢因为沟通...   0.999986  \n",
       "1                         超出预期每一首都好听尤其是OfCourse发音真的好   0.314052  \n",
       "2                                              加油呀小刘   0.975966  \n",
       "3  OfCourse慵懒性感英语发音好苏 UI温暖大气越听越开心鼓舞人心 练习曲安静又有点辛酸仿...   1.000000  \n",
       "4     这张专辑让我路转粉转死忠真的很好听听完也很有感悟零点发的听完哭了整整一夜刘雨昕未来可期加油    0.998987  "
      ]
     },
     "execution_count": 65,
     "metadata": {},
     "output_type": "execute_result"
    }
   ],
   "source": [
    "# Show top rows of the results\n",
    "df_bonus_text.head(5)"
   ]
  },
  {
   "cell_type": "code",
   "execution_count": 67,
   "id": "b621ddaf",
   "metadata": {
    "scrolled": true
   },
   "outputs": [
    {
     "data": {
      "text/plain": [
       "count    200.000000\n",
       "mean       0.746958\n",
       "std        0.310183\n",
       "min        0.000097\n",
       "25%        0.520114\n",
       "50%        0.920631\n",
       "75%        0.999865\n",
       "max        1.000000\n",
       "Name: sentiment, dtype: float64"
      ]
     },
     "execution_count": 67,
     "metadata": {},
     "output_type": "execute_result"
    }
   ],
   "source": [
    "df_bonus_text.sentiment.describe()"
   ]
  },
  {
   "cell_type": "markdown",
   "id": "9a31775d",
   "metadata": {},
   "source": [
    "The sentiment range from 0 to 1 with 0 represent negative sentiment while 1 represent positive sentiment.\\\n",
    "Among the reviews, the average sentiment polarity is 0.74, indicating there is a positive sentiment towards this album."
   ]
  },
  {
   "cell_type": "code",
   "execution_count": 77,
   "id": "c0065297",
   "metadata": {},
   "outputs": [
    {
     "data": {
      "text/plain": [
       "<AxesSubplot:ylabel='Frequency'>"
      ]
     },
     "execution_count": 77,
     "metadata": {},
     "output_type": "execute_result"
    },
    {
     "data": {
      "image/png": "[encoded data removed]",
      "text/plain": [
       "<Figure size 432x288 with 1 Axes>"
      ]
     },
     "metadata": {
      "needs_background": "light"
     },
     "output_type": "display_data"
    }
   ],
   "source": [
    "df_bonus_text.sentiment.plot.hist(bins=12, alpha=0.5)"
   ]
  },
  {
   "cell_type": "markdown",
   "id": "b98b0df2",
   "metadata": {},
   "source": [
    "The histogram indicates a centralized and positive sentiment of the album reviews."
   ]
  }
 ],
 "metadata": {
  "kernelspec": {
   "display_name": "Python 3 (ipykernel)",
   "language": "python",
   "name": "python3"
  },
  "language_info": {
   "codemirror_mode": {
    "name": "ipython",
    "version": 3
   },
   "file_extension": ".py",
   "mimetype": "text/x-python",
   "name": "python",
   "nbconvert_exporter": "python",
   "pygments_lexer": "ipython3",
   "version": "3.7.7"
  }
 },
 "nbformat": 4,
 "nbformat_minor": 5
}
